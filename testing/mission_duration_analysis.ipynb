{
 "cells": [
  {
   "cell_type": "markdown",
   "metadata": {},
   "source": [
    "# Mission Duration & Performance Analysis\n",
    "\n",
    "## Project Overview\n",
    "This analysis focuses on two key objectives:\n",
    "1. **Optimal Mission Length Predictor**: Build models to predict ideal mission durations based on astronaut characteristics, experience, and mission type\n",
    "2. **EVA Efficiency Analysis**: Analyze factors that influence spacewalk duration and success rates\n",
    "\n",
    "## Data Source\n",
    "- Primary: Social_Science.csv (1,273 astronaut mission records)\n",
    "- External APIs: NASA Open Data Portal for additional mission context"
   ]
  },
  {
   "cell_type": "code",
   "metadata": {
    "ExecuteTime": {
     "end_time": "2025-09-20T19:05:09.585719Z",
     "start_time": "2025-09-20T19:05:09.180338Z"
    }
   },
   "source": [
    "# Import required libraries\n",
    "import pandas as pd\n",
    "import numpy as np\n",
    "import matplotlib.pyplot as plt\n",
    "import seaborn as sns\n",
    "import plotly.express as px\n",
    "import plotly.graph_objects as go\n",
    "from plotly.subplots import make_subplots\n",
    "import warnings\n",
    "warnings.filterwarnings('ignore')\n",
    "\n",
    "# Machine Learning libraries\n",
    "from sklearn.model_selection import train_test_split, cross_val_score, GridSearchCV\n",
    "from sklearn.ensemble import RandomForestRegressor, GradientBoostingRegressor\n",
    "from sklearn.linear_model import LinearRegression, Ridge\n",
    "from sklearn.preprocessing import StandardScaler, LabelEncoder\n",
    "from sklearn.metrics import mean_squared_error, r2_score, mean_absolute_error\n",
    "from sklearn.cluster import KMeans\n",
    "\n",
    "# Statistical analysis\n",
    "from scipy import stats\n",
    "from scipy.stats import pearsonr, spearmanr\n",
    "\n",
    "# Set style for better visualizations\n",
    "plt.style.use('default')\n",
    "sns.set_palette(\"husl\")\n",
    "\n",
    "# Display settings\n",
    "pd.set_option('display.max_columns', None)\n",
    "pd.set_option('display.width', None)\n",
    "\n",
    "print(\"Libraries imported successfully!\")"
   ],
   "outputs": [
    {
     "name": "stdout",
     "output_type": "stream",
     "text": [
      "Libraries imported successfully!\n"
     ]
    }
   ],
   "execution_count": 1
  },
  {
   "cell_type": "markdown",
   "metadata": {},
   "source": [
    "## 1. Data Loading and Exploration"
   ]
  },
  {
   "cell_type": "code",
   "metadata": {
    "ExecuteTime": {
     "end_time": "2025-09-20T19:05:09.599641Z",
     "start_time": "2025-09-20T19:05:09.589172Z"
    }
   },
   "source": [
    "# Load the dataset\n",
    "df = pd.read_csv('data/Social_Science.csv')\n",
    "\n",
    "print(f\"Dataset shape: {df.shape}\")\n",
    "print(f\"\\nColumns: {list(df.columns)}\")\n",
    "print(f\"\\nFirst few rows:\")\n",
    "df.head()"
   ],
   "outputs": [
    {
     "name": "stdout",
     "output_type": "stream",
     "text": [
      "Dataset shape: (1270, 20)\n",
      "\n",
      "Columns: ['Profile.Astronaut Numbers.Overall', 'Profile.Astronaut Numbers.Nationwide', 'Profile.Name', 'Profile.Gender', 'Profile.Birth Year', 'Profile.Nationality', 'Profile.Military', 'Profile.Selection.Group', 'Profile.Selection.Year', 'Profile.Lifetime Statistics.Mission count', 'Mission.Role', 'Mission.Year', 'Mission.Name', 'Mission.Vechicles.Ascent', 'Mission.Vechicles.Orbit', 'Mission.Vechicles.Decent', 'Mission.Durations.Mission duration', 'Profile.Lifetime Statistics.Mission duration', 'Mission.Durations.EVA duration', 'Profile.Lifetime Statistics.EVA duration']\n",
      "\n",
      "First few rows:\n"
     ]
    },
    {
     "data": {
      "text/plain": [
       "   Profile.Astronaut Numbers.Overall  Profile.Astronaut Numbers.Nationwide  \\\n",
       "0                                  1                                     1   \n",
       "1                                  2                                     2   \n",
       "2                                  3                                     1   \n",
       "3                                  3                                     1   \n",
       "4                                  4                                     2   \n",
       "\n",
       "          Profile.Name Profile.Gender  Profile.Birth Year Profile.Nationality  \\\n",
       "0        Gagarin, Yuri           male                1934      U.S.S.R/Russia   \n",
       "1       Titov, Gherman           male                1935      U.S.S.R/Russia   \n",
       "2  Glenn, John H., Jr.           male                1921                U.S.   \n",
       "3  Glenn, John H., Jr.           male                1921                U.S.   \n",
       "4  Carpenter, M. Scott           male                1925                U.S.   \n",
       "\n",
       "   Profile.Military Profile.Selection.Group  Profile.Selection.Year  \\\n",
       "0              True                  TsPK-1                    1960   \n",
       "1              True                  TsPK-1                    1960   \n",
       "2              True  NASA Astronaut Group 1                    1959   \n",
       "3              True  NASA Astronaut Group 2                    1959   \n",
       "4              True                 NASA- 1                    1959   \n",
       "\n",
       "   Profile.Lifetime Statistics.Mission count Mission.Role  Mission.Year  \\\n",
       "0                                          1        pilot          1961   \n",
       "1                                          1        pilot          1961   \n",
       "2                                          2        pilot          1962   \n",
       "3                                          2          PSP          1998   \n",
       "4                                          1        Pilot          1962   \n",
       "\n",
       "      Mission.Name Mission.Vechicles.Ascent Mission.Vechicles.Orbit  \\\n",
       "0         Vostok 1                 Vostok 1                Vostok 2   \n",
       "1         Vostok 2                 Vostok 2                Vostok 2   \n",
       "2             MA-6                     MA-6                    MA-6   \n",
       "3           STS-95                   STS-95                  STS-95   \n",
       "4  Mercury-Atlas 7          Mercury-Atlas 7         Mercury-Atlas 7   \n",
       "\n",
       "  Mission.Vechicles.Decent  Mission.Durations.Mission duration  \\\n",
       "0                 Vostok 3                                1.77   \n",
       "1                 Vostok 2                               25.00   \n",
       "2                     MA-6                                5.00   \n",
       "3                   STS-95                              213.00   \n",
       "4          Mercury-Atlas 7                                5.00   \n",
       "\n",
       "   Profile.Lifetime Statistics.Mission duration  \\\n",
       "0                                          1.77   \n",
       "1                                         25.30   \n",
       "2                                        218.00   \n",
       "3                                        218.00   \n",
       "4                                          5.00   \n",
       "\n",
       "   Mission.Durations.EVA duration  Profile.Lifetime Statistics.EVA duration  \n",
       "0                             0.0                                       0.0  \n",
       "1                             0.0                                       0.0  \n",
       "2                             0.0                                       0.0  \n",
       "3                             0.0                                       0.0  \n",
       "4                             0.0                                       0.0  "
      ],
      "text/html": [
       "<div>\n",
       "<style scoped>\n",
       "    .dataframe tbody tr th:only-of-type {\n",
       "        vertical-align: middle;\n",
       "    }\n",
       "\n",
       "    .dataframe tbody tr th {\n",
       "        vertical-align: top;\n",
       "    }\n",
       "\n",
       "    .dataframe thead th {\n",
       "        text-align: right;\n",
       "    }\n",
       "</style>\n",
       "<table border=\"1\" class=\"dataframe\">\n",
       "  <thead>\n",
       "    <tr style=\"text-align: right;\">\n",
       "      <th></th>\n",
       "      <th>Profile.Astronaut Numbers.Overall</th>\n",
       "      <th>Profile.Astronaut Numbers.Nationwide</th>\n",
       "      <th>Profile.Name</th>\n",
       "      <th>Profile.Gender</th>\n",
       "      <th>Profile.Birth Year</th>\n",
       "      <th>Profile.Nationality</th>\n",
       "      <th>Profile.Military</th>\n",
       "      <th>Profile.Selection.Group</th>\n",
       "      <th>Profile.Selection.Year</th>\n",
       "      <th>Profile.Lifetime Statistics.Mission count</th>\n",
       "      <th>Mission.Role</th>\n",
       "      <th>Mission.Year</th>\n",
       "      <th>Mission.Name</th>\n",
       "      <th>Mission.Vechicles.Ascent</th>\n",
       "      <th>Mission.Vechicles.Orbit</th>\n",
       "      <th>Mission.Vechicles.Decent</th>\n",
       "      <th>Mission.Durations.Mission duration</th>\n",
       "      <th>Profile.Lifetime Statistics.Mission duration</th>\n",
       "      <th>Mission.Durations.EVA duration</th>\n",
       "      <th>Profile.Lifetime Statistics.EVA duration</th>\n",
       "    </tr>\n",
       "  </thead>\n",
       "  <tbody>\n",
       "    <tr>\n",
       "      <th>0</th>\n",
       "      <td>1</td>\n",
       "      <td>1</td>\n",
       "      <td>Gagarin, Yuri</td>\n",
       "      <td>male</td>\n",
       "      <td>1934</td>\n",
       "      <td>U.S.S.R/Russia</td>\n",
       "      <td>True</td>\n",
       "      <td>TsPK-1</td>\n",
       "      <td>1960</td>\n",
       "      <td>1</td>\n",
       "      <td>pilot</td>\n",
       "      <td>1961</td>\n",
       "      <td>Vostok 1</td>\n",
       "      <td>Vostok 1</td>\n",
       "      <td>Vostok 2</td>\n",
       "      <td>Vostok 3</td>\n",
       "      <td>1.77</td>\n",
       "      <td>1.77</td>\n",
       "      <td>0.0</td>\n",
       "      <td>0.0</td>\n",
       "    </tr>\n",
       "    <tr>\n",
       "      <th>1</th>\n",
       "      <td>2</td>\n",
       "      <td>2</td>\n",
       "      <td>Titov, Gherman</td>\n",
       "      <td>male</td>\n",
       "      <td>1935</td>\n",
       "      <td>U.S.S.R/Russia</td>\n",
       "      <td>True</td>\n",
       "      <td>TsPK-1</td>\n",
       "      <td>1960</td>\n",
       "      <td>1</td>\n",
       "      <td>pilot</td>\n",
       "      <td>1961</td>\n",
       "      <td>Vostok 2</td>\n",
       "      <td>Vostok 2</td>\n",
       "      <td>Vostok 2</td>\n",
       "      <td>Vostok 2</td>\n",
       "      <td>25.00</td>\n",
       "      <td>25.30</td>\n",
       "      <td>0.0</td>\n",
       "      <td>0.0</td>\n",
       "    </tr>\n",
       "    <tr>\n",
       "      <th>2</th>\n",
       "      <td>3</td>\n",
       "      <td>1</td>\n",
       "      <td>Glenn, John H., Jr.</td>\n",
       "      <td>male</td>\n",
       "      <td>1921</td>\n",
       "      <td>U.S.</td>\n",
       "      <td>True</td>\n",
       "      <td>NASA Astronaut Group 1</td>\n",
       "      <td>1959</td>\n",
       "      <td>2</td>\n",
       "      <td>pilot</td>\n",
       "      <td>1962</td>\n",
       "      <td>MA-6</td>\n",
       "      <td>MA-6</td>\n",
       "      <td>MA-6</td>\n",
       "      <td>MA-6</td>\n",
       "      <td>5.00</td>\n",
       "      <td>218.00</td>\n",
       "      <td>0.0</td>\n",
       "      <td>0.0</td>\n",
       "    </tr>\n",
       "    <tr>\n",
       "      <th>3</th>\n",
       "      <td>3</td>\n",
       "      <td>1</td>\n",
       "      <td>Glenn, John H., Jr.</td>\n",
       "      <td>male</td>\n",
       "      <td>1921</td>\n",
       "      <td>U.S.</td>\n",
       "      <td>True</td>\n",
       "      <td>NASA Astronaut Group 2</td>\n",
       "      <td>1959</td>\n",
       "      <td>2</td>\n",
       "      <td>PSP</td>\n",
       "      <td>1998</td>\n",
       "      <td>STS-95</td>\n",
       "      <td>STS-95</td>\n",
       "      <td>STS-95</td>\n",
       "      <td>STS-95</td>\n",
       "      <td>213.00</td>\n",
       "      <td>218.00</td>\n",
       "      <td>0.0</td>\n",
       "      <td>0.0</td>\n",
       "    </tr>\n",
       "    <tr>\n",
       "      <th>4</th>\n",
       "      <td>4</td>\n",
       "      <td>2</td>\n",
       "      <td>Carpenter, M. Scott</td>\n",
       "      <td>male</td>\n",
       "      <td>1925</td>\n",
       "      <td>U.S.</td>\n",
       "      <td>True</td>\n",
       "      <td>NASA- 1</td>\n",
       "      <td>1959</td>\n",
       "      <td>1</td>\n",
       "      <td>Pilot</td>\n",
       "      <td>1962</td>\n",
       "      <td>Mercury-Atlas 7</td>\n",
       "      <td>Mercury-Atlas 7</td>\n",
       "      <td>Mercury-Atlas 7</td>\n",
       "      <td>Mercury-Atlas 7</td>\n",
       "      <td>5.00</td>\n",
       "      <td>5.00</td>\n",
       "      <td>0.0</td>\n",
       "      <td>0.0</td>\n",
       "    </tr>\n",
       "  </tbody>\n",
       "</table>\n",
       "</div>"
      ]
     },
     "execution_count": 2,
     "metadata": {},
     "output_type": "execute_result"
    }
   ],
   "execution_count": 2
  },
  {
   "cell_type": "code",
   "metadata": {
    "ExecuteTime": {
     "end_time": "2025-09-20T19:05:09.630782Z",
     "start_time": "2025-09-20T19:05:09.621833Z"
    }
   },
   "source": "# Data cleaning and preprocessing\ndef clean_data(df):\n    # Create a copy to work with\n    data = df.copy()\n    \n    # Clean column names\n    data.columns = [col.replace('Profile.', '').replace('Mission.', '').replace('Durations.', '').replace('Statistics.', '') for col in data.columns]\n    \n    # Check for duplicate columns and fix them\n    print(\"Columns after cleaning:\", data.columns.tolist())\n    print(\"Duplicate columns:\", data.columns[data.columns.duplicated()].tolist())\n    \n    # Handle duplicate columns by renaming them\n    cols = data.columns.tolist()\n    seen = {}\n    for i, col in enumerate(cols):\n        if col in seen:\n            seen[col] += 1\n            cols[i] = f\"{col}_{seen[col]}\"\n        else:\n            seen[col] = 0\n    data.columns = cols\n    \n    print(\"Columns after fixing duplicates:\", data.columns.tolist())\n    \n    # Convert numeric columns (updated with proper column names)\n    numeric_cols = ['Birth Year', 'Selection.Year', 'Lifetime Mission count', 'Year', 'Mission duration', 'Lifetime Mission duration', 'EVA duration', 'Lifetime EVA duration']\n    for col in numeric_cols:\n        if col in data.columns:\n            data[col] = pd.to_numeric(data[col], errors='coerce')\n    \n    # Calculate age at mission\n    data['Age at Mission'] = data['Year'] - data['Birth Year']\n    \n    # Calculate experience (years since selection)\n    data['Years Experience'] = data['Year'] - data['Selection.Year']\n    \n    # Improved mission type classification\n    print(\"\\nSample mission names for classification:\")\n    print(data['Name_1'].head(10).tolist())\n    \n    def classify_mission_type(mission_name):\n        mission_str = str(mission_name).upper()\n        \n        # Mercury missions\n        if any(keyword in mission_str for keyword in ['MERCURY', 'MA-', 'MR-']):\n            return 'Mercury'\n        \n        # Gemini missions  \n        if any(keyword in mission_str for keyword in ['GEMINI', 'GT-']):\n            return 'Gemini'\n        \n        # Apollo missions\n        if any(keyword in mission_str for keyword in ['APOLLO']):\n            return 'Apollo'\n        \n        # Space Shuttle missions\n        if any(keyword in mission_str for keyword in ['STS-', 'SHUTTLE', 'DISCOVERY', 'CHALLENGER', 'COLUMBIA', 'ATLANTIS', 'ENDEAVOUR']):\n            return 'Space Shuttle'\n        \n        # Soviet/Russian missions\n        if any(keyword in mission_str for keyword in ['VOSTOK', 'ВОСТОК']):\n            return 'Vostok'\n        if any(keyword in mission_str for keyword in ['VOSKHOD', 'ВОСХОД']):\n            return 'Voskhod'\n        if any(keyword in mission_str for keyword in ['SOYUZ', 'СОЮЗ']):\n            return 'Soyuz'\n        \n        # International Space Station\n        if any(keyword in mission_str for keyword in ['EXPEDITION', 'ISS', 'INTERNATIONAL SPACE STATION']):\n            return 'ISS Expedition'\n        \n        # Skylab\n        if any(keyword in mission_str for keyword in ['SKYLAB']):\n            return 'Skylab'\n        \n        # Commercial missions\n        if any(keyword in mission_str for keyword in ['SPACEX', 'DRAGON', 'CREW-', 'DM-', 'DEMO-']):\n            return 'Commercial Crew'\n        \n        # Test flights and other missions\n        if any(keyword in mission_str for keyword in ['TEST', 'DEMO', 'APPROACH']):\n            return 'Test Flight'\n        \n        return 'Other'\n    \n    # Apply improved mission type classification\n    data['Mission Type'] = data['Name_1'].apply(classify_mission_type)\n    \n    # Clean boolean columns\n    data['Military'] = data['Military'].map({'True': True, 'False': False, True: True, False: False})\n    \n    return data\n\n# Clean the data\ndf_clean = clean_data(df)\n\nprint(\"Data cleaned successfully!\")\nprint(f\"\\nNew columns added: Age at Mission, Years Experience, Mission Type\")\nprint(f\"\\nMission types found:\")\nprint(df_clean['Mission Type'].value_counts())",
   "outputs": [
    {
     "name": "stdout",
     "output_type": "stream",
     "text": [
      "Columns after cleaning: ['Astronaut Numbers.Overall', 'Astronaut Numbers.Nationwide', 'Name', 'Gender', 'Birth Year', 'Nationality', 'Military', 'Selection.Group', 'Selection.Year', 'Lifetime Mission count', 'Role', 'Year', 'Name', 'Vechicles.Ascent', 'Vechicles.Orbit', 'Vechicles.Decent', 'Mission duration', 'Lifetime Mission duration', 'EVA duration', 'Lifetime EVA duration']\n",
      "Duplicate columns: ['Name']\n",
      "Columns after fixing duplicates: ['Astronaut Numbers.Overall', 'Astronaut Numbers.Nationwide', 'Name', 'Gender', 'Birth Year', 'Nationality', 'Military', 'Selection.Group', 'Selection.Year', 'Lifetime Mission count', 'Role', 'Year', 'Name_1', 'Vechicles.Ascent', 'Vechicles.Orbit', 'Vechicles.Decent', 'Mission duration', 'Lifetime Mission duration', 'EVA duration', 'Lifetime EVA duration']\n",
      "\n",
      "Sample mission names for classification:\n",
      "['Vostok 1', 'Vostok 2', 'MA-6', 'STS-95', 'Mercury-Atlas 7', 'Vostok 3', 'Soyuz 9', 'Vostok 4', 'Soyuz 14', 'Mercury-Atlas 8']\n",
      "Data cleaned successfully!\n",
      "\n",
      "New columns added: Age at Mission, Years Experience, Mission Type\n",
      "\n",
      "Mission types found:\n",
      "Mission Type\n",
      "Space Shuttle    760\n",
      "Other            337\n",
      "Soyuz             85\n",
      "Apollo            33\n",
      "Gemini            20\n",
      "Mercury           15\n",
      "Skylab             9\n",
      "Vostok             6\n",
      "Voskhod            5\n",
      "Name: count, dtype: int64\n"
     ]
    }
   ],
   "execution_count": 3
  },
  {
   "cell_type": "markdown",
   "metadata": {},
   "source": [
    "## 2. Exploratory Data Analysis"
   ]
  },
  {
   "cell_type": "code",
   "metadata": {
    "ExecuteTime": {
     "end_time": "2025-09-20T19:05:09.663638Z",
     "start_time": "2025-09-20T19:05:09.658475Z"
    }
   },
   "source": [
    "# Basic statistics\n",
    "print(\"=== MISSION DURATION STATISTICS ===\")\n",
    "print(df_clean['Mission duration'].describe())\n",
    "\n",
    "print(\"\\n=== EVA DURATION STATISTICS ===\")\n",
    "print(df_clean['EVA duration'].describe())\n",
    "\n",
    "print(\"\\n=== MISSING VALUES ===\")\n",
    "print(df_clean.isnull().sum()[df_clean.isnull().sum() > 0])"
   ],
   "outputs": [
    {
     "name": "stdout",
     "output_type": "stream",
     "text": [
      "=== MISSION DURATION STATISTICS ===\n",
      "count     1270.000000\n",
      "mean      1052.018987\n",
      "std       1716.243661\n",
      "min          0.000000\n",
      "25%        190.007500\n",
      "50%        261.000000\n",
      "75%        382.000000\n",
      "max      10505.000000\n",
      "Name: Mission duration, dtype: float64\n",
      "\n",
      "=== EVA DURATION STATISTICS ===\n",
      "count    1270.000000\n",
      "mean        3.666326\n",
      "std         7.289887\n",
      "min         0.000000\n",
      "25%         0.000000\n",
      "50%         0.000000\n",
      "75%         4.765000\n",
      "max        89.130000\n",
      "Name: EVA duration, dtype: float64\n",
      "\n",
      "=== MISSING VALUES ===\n",
      "Series([], dtype: int64)\n"
     ]
    }
   ],
   "execution_count": 4
  },
  {
   "cell_type": "code",
   "metadata": {
    "ExecuteTime": {
     "end_time": "2025-09-20T19:05:10.289247Z",
     "start_time": "2025-09-20T19:05:09.679116Z"
    }
   },
   "source": [
    "# Create comprehensive visualizations\n",
    "fig = make_subplots(\n",
    "    rows=2, cols=2,\n",
    "    subplot_titles=('Mission Duration Distribution', 'EVA Duration Distribution', \n",
    "                   'Mission Duration by Type', 'Experience vs Mission Duration'),\n",
    "    specs=[[{\"secondary_y\": False}, {\"secondary_y\": False}],\n",
    "           [{\"secondary_y\": False}, {\"secondary_y\": False}]]\n",
    ")\n",
    "\n",
    "# Mission duration distribution\n",
    "fig.add_trace(\n",
    "    go.Histogram(x=df_clean['Mission duration'], nbinsx=50, name='Mission Duration'),\n",
    "    row=1, col=1\n",
    ")\n",
    "\n",
    "# EVA duration distribution (only non-zero values)\n",
    "eva_data = df_clean[df_clean['EVA duration'] > 0]['EVA duration']\n",
    "fig.add_trace(\n",
    "    go.Histogram(x=eva_data, nbinsx=30, name='EVA Duration'),\n",
    "    row=1, col=2\n",
    ")\n",
    "\n",
    "# Mission duration by type\n",
    "mission_by_type = df_clean.groupby('Mission Type')['Mission duration'].mean().sort_values(ascending=False)\n",
    "fig.add_trace(\n",
    "    go.Bar(x=mission_by_type.index, y=mission_by_type.values, name='Avg Duration by Type'),\n",
    "    row=2, col=1\n",
    ")\n",
    "\n",
    "# Experience vs Mission Duration scatter\n",
    "fig.add_trace(\n",
    "    go.Scatter(x=df_clean['Years Experience'], y=df_clean['Mission duration'], \n",
    "              mode='markers', name='Experience vs Duration'),\n",
    "    row=2, col=2\n",
    ")\n",
    "\n",
    "fig.update_layout(height=800, title_text=\"Mission Duration Analysis Overview\")\n",
    "fig.show()"
   ],
   "outputs": [
    {
     "data": {
      "application/vnd.plotly.v1+json": {
       "data": [
        {
         "name": "Mission Duration",
         "nbinsx": 50,
         "x": {
          "dtype": "f8",
          "bdata": "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"
         },
         "type": "histogram",
         "xaxis": "x",
         "yaxis": "y"
        },
        {
         "name": "EVA Duration",
         "nbinsx": 30,
         "x": {
          "dtype": "f8",
          "bdata": "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"
         },
         "type": "histogram",
         "xaxis": "x2",
         "yaxis": "y2"
        },
        {
         "name": "Avg Duration by Type",
         "x": [
          "Other",
          "Skylab",
          "Soyuz",
          "Space Shuttle",
          "Apollo",
          "Mercury",
          "Gemini",
          "Vostok",
          "Voskhod"
         ],
         "y": {
          "dtype": "f8",
          "bdata": "kM6iQpeaqUAlv1jyi7yUQOA1RHEjNXFAPmSyr84lbkBgGgOmMXhsQAG511xIKmdA8tJNYhAcW0CtR+F6FM5PQHsUrkfh+jhA"
         },
         "type": "bar",
         "xaxis": "x3",
         "yaxis": "y3"
        },
        {
         "mode": "markers",
         "name": "Experience vs Duration",
         "x": {
          "dtype": "i1",
          "bdata": "AQEDJwMCCgIOAwYJBAYDEBIBBAcAAAUFDwYDBAcKExUDBwMDBAcLAwYDBAYIAwQHDQQHAwYIAwYJAwYDBgMGBQUHCgMMDg8PAw8TDA4NEAwCCBENDxAEBAUGBggJEAEBAwkGCQEHDAYLAQMJERQGCgQEAgcMBQUDBgsIAwUFBhATBgYHBxEIBxAIEgkFCgwIBwgICg0BCgsJCwwPBwkRCRASGBANAwcLCwwKCw4EBgcZBwoRCAsMDg8CBQkCAgwQFQEKCwwNEQECDxMVBwoLERYDBQwPAgQQEw8RDw4QEA4QEhYYGh0HDBMVBQYKBQcFBgUHCw4RBQkFBwwOBQcNDgUGEBIFBwsQFwEKBQ4QBggKDhEGCAYHEhgGCAECBggGBgcGCAoHBgsNBgoMBggMExUGBwECAgYGDA4ECQwAAQ0RBgsOEQYHDA4HCAcHCw0GBwsHDQ8HBwwODxIABwsNEwIBBwwNBwcNDwcLDQ8SBQAFEhIAAAcKDA8FCAoFCQkNEAUJDA0FCAoMAwUKDA8SAwMHBQsFCAsNDxIWBQkFAAYKDA4GCQwOEBIWAQIGAgEJCQwOEAIJDAoMDhETFQoQFgADBgkNDxQICgQGCBAJCQsNEAkKCQsFCAoNCQoMDgUHBQcFBQgLBQUICQsGCAsNERIGCAoNEQYHCQwGCQoMBQcJBQgFBwkNAwUDBQYJBgkRBQcJBQYJBgsGCwYJDhABBwkLBgkLEAYHCQsHCgQGCAoEBgcHCAYHCQYCBwoGBwoLDgcIBgcJDAQHAAIGCAoLBAUIDQ4EBgkDBwgKBQYJCQgMEBMaAgcICw8FBggKDBAHBQcJBQYICg8CCQYICwcOBQcJDg8SFfoFBwkKCwwFBwoFBw8JFwIEBgMEBgoLBAMFBgsMAwQJDAMFBwgDBQYGFQMFCAwDBAcKAwUHBwoGCggOAwUIDAMEBgsDBAYLAwYIAwUKEAMHDBMBBQcLDAQGBAQGCwcNEBQZHAQICwQFBwcKBAYKDgQFBwcJDQIFBAYICgIFBwoFCAIFCA4JDA4CBQYJDwUHCQ8FAwUHChEDBQYNCA4GCQ0DBAUIAwgIDQ8DDgMFBQkDBAUHCQMHEwMICg8BAQMJFAQFCA4EBQQIERUEBwkHDAQFCAkEAAX3BgkNBAYKEAQLDRoJDwsQBQcCAgICAgICBQIFCAUOFQMHDAMECxAOAwYIAgMHCxADCQwXFQMEBw0ECQgOCBIEBggPAw8GDwcCAwUGDQMFBgkPFBcaAQYECwMGDA4BBAgHEQoQBAYHAwsPEw0KDAQKDhQECw4SBAoPCwUHDAUKDQUJBQUJDQQFCwEFCw0FCw0HDBMFBQoMDwULBgYNBgwGDA8GBAcNAQYGDAYMFAoGDA8GCg4FCg0QFAQLBgYMDwcHBwcCCA0PBg4ICQ0JAAADCAgKDQoKCw4ICg0GDAgIDA4RCggOCw0RCQsJCxAJCwkMCQwHCwkBCQwJDAkMEwoMCgsKCg0ICgoLCgwLDhIMDxMWAgoMCA0ICAkNCg0AAAAECAgLCAoLBAwJCgUIDQUOCQsLCQoJCQsSDA8JCwUJBQkJDwkMBQkLEQwACQ4FDQULCg4NERYMEQYGCwYNExYNCAsIDQwICw4IDRAAAAYKCQcLBAAACg4ECw8FBQkIBQYGBgMGCg0NBwcGCgcICAgICAkFBgkFBgYGAQ=="
         },
         "y": {
          "dtype": "f8",
          "bdata": "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"
         },
         "type": "scatter",
         "xaxis": "x4",
         "yaxis": "y4"
        }
       ],
       "layout": {
        "template": {
         "data": {
          "histogram2dcontour": [
           {
            "type": "histogram2dcontour",
            "colorbar": {
             "outlinewidth": 0,
             "ticks": ""
            },
            "colorscale": [
             [
              0.0,
              "#0d0887"
             ],
             [
              0.1111111111111111,
              "#46039f"
             ],
             [
              0.2222222222222222,
              "#7201a8"
             ],
             [
              0.3333333333333333,
              "#9c179e"
             ],
             [
              0.4444444444444444,
              "#bd3786"
             ],
             [
              0.5555555555555556,
              "#d8576b"
             ],
             [
              0.6666666666666666,
              "#ed7953"
             ],
             [
              0.7777777777777778,
              "#fb9f3a"
             ],
             [
              0.8888888888888888,
              "#fdca26"
             ],
             [
              1.0,
              "#f0f921"
             ]
            ]
           }
          ],
          "choropleth": [
           {
            "type": "choropleth",
            "colorbar": {
             "outlinewidth": 0,
             "ticks": ""
            }
           }
          ],
          "histogram2d": [
           {
            "type": "histogram2d",
            "colorbar": {
             "outlinewidth": 0,
             "ticks": ""
            },
            "colorscale": [
             [
              0.0,
              "#0d0887"
             ],
             [
              0.1111111111111111,
              "#46039f"
             ],
             [
              0.2222222222222222,
              "#7201a8"
             ],
             [
              0.3333333333333333,
              "#9c179e"
             ],
             [
              0.4444444444444444,
              "#bd3786"
             ],
             [
              0.5555555555555556,
              "#d8576b"
             ],
             [
              0.6666666666666666,
              "#ed7953"
             ],
             [
              0.7777777777777778,
              "#fb9f3a"
             ],
             [
              0.8888888888888888,
              "#fdca26"
             ],
             [
              1.0,
              "#f0f921"
             ]
            ]
           }
          ],
          "heatmap": [
           {
            "type": "heatmap",
            "colorbar": {
             "outlinewidth": 0,
             "ticks": ""
            },
            "colorscale": [
             [
              0.0,
              "#0d0887"
             ],
             [
              0.1111111111111111,
              "#46039f"
             ],
             [
              0.2222222222222222,
              "#7201a8"
             ],
             [
              0.3333333333333333,
              "#9c179e"
             ],
             [
              0.4444444444444444,
              "#bd3786"
             ],
             [
              0.5555555555555556,
              "#d8576b"
             ],
             [
              0.6666666666666666,
              "#ed7953"
             ],
             [
              0.7777777777777778,
              "#fb9f3a"
             ],
             [
              0.8888888888888888,
              "#fdca26"
             ],
             [
              1.0,
              "#f0f921"
             ]
            ]
           }
          ],
          "contourcarpet": [
           {
            "type": "contourcarpet",
            "colorbar": {
             "outlinewidth": 0,
             "ticks": ""
            }
           }
          ],
          "contour": [
           {
            "type": "contour",
            "colorbar": {
             "outlinewidth": 0,
             "ticks": ""
            },
            "colorscale": [
             [
              0.0,
              "#0d0887"
             ],
             [
              0.1111111111111111,
              "#46039f"
             ],
             [
              0.2222222222222222,
              "#7201a8"
             ],
             [
              0.3333333333333333,
              "#9c179e"
             ],
             [
              0.4444444444444444,
              "#bd3786"
             ],
             [
              0.5555555555555556,
              "#d8576b"
             ],
             [
              0.6666666666666666,
              "#ed7953"
             ],
             [
              0.7777777777777778,
              "#fb9f3a"
             ],
             [
              0.8888888888888888,
              "#fdca26"
             ],
             [
              1.0,
              "#f0f921"
             ]
            ]
           }
          ],
          "surface": [
           {
            "type": "surface",
            "colorbar": {
             "outlinewidth": 0,
             "ticks": ""
            },
            "colorscale": [
             [
              0.0,
              "#0d0887"
             ],
             [
              0.1111111111111111,
              "#46039f"
             ],
             [
              0.2222222222222222,
              "#7201a8"
             ],
             [
              0.3333333333333333,
              "#9c179e"
             ],
             [
              0.4444444444444444,
              "#bd3786"
             ],
             [
              0.5555555555555556,
              "#d8576b"
             ],
             [
              0.6666666666666666,
              "#ed7953"
             ],
             [
              0.7777777777777778,
              "#fb9f3a"
             ],
             [
              0.8888888888888888,
              "#fdca26"
             ],
             [
              1.0,
              "#f0f921"
             ]
            ]
           }
          ],
          "mesh3d": [
           {
            "type": "mesh3d",
            "colorbar": {
             "outlinewidth": 0,
             "ticks": ""
            }
           }
          ],
          "scatter": [
           {
            "marker": {
             "line": {
              "color": "#283442"
             }
            },
            "type": "scatter"
           }
          ],
          "parcoords": [
           {
            "type": "parcoords",
            "line": {
             "colorbar": {
              "outlinewidth": 0,
              "ticks": ""
             }
            }
           }
          ],
          "scatterpolargl": [
           {
            "type": "scatterpolargl",
            "marker": {
             "colorbar": {
              "outlinewidth": 0,
              "ticks": ""
             }
            }
           }
          ],
          "bar": [
           {
            "error_x": {
             "color": "#f2f5fa"
            },
            "error_y": {
             "color": "#f2f5fa"
            },
            "marker": {
             "line": {
              "color": "rgb(17,17,17)",
              "width": 0.5
             },
             "pattern": {
              "fillmode": "overlay",
              "size": 10,
              "solidity": 0.2
             }
            },
            "type": "bar"
           }
          ],
          "scattergeo": [
           {
            "type": "scattergeo",
            "marker": {
             "colorbar": {
              "outlinewidth": 0,
              "ticks": ""
             }
            }
           }
          ],
          "scatterpolar": [
           {
            "type": "scatterpolar",
            "marker": {
             "colorbar": {
              "outlinewidth": 0,
              "ticks": ""
             }
            }
           }
          ],
          "histogram": [
           {
            "marker": {
             "pattern": {
              "fillmode": "overlay",
              "size": 10,
              "solidity": 0.2
             }
            },
            "type": "histogram"
           }
          ],
          "scattergl": [
           {
            "marker": {
             "line": {
              "color": "#283442"
             }
            },
            "type": "scattergl"
           }
          ],
          "scatter3d": [
           {
            "type": "scatter3d",
            "line": {
             "colorbar": {
              "outlinewidth": 0,
              "ticks": ""
             }
            },
            "marker": {
             "colorbar": {
              "outlinewidth": 0,
              "ticks": ""
             }
            }
           }
          ],
          "scattermap": [
           {
            "type": "scattermap",
            "marker": {
             "colorbar": {
              "outlinewidth": 0,
              "ticks": ""
             }
            }
           }
          ],
          "scattermapbox": [
           {
            "type": "scattermapbox",
            "marker": {
             "colorbar": {
              "outlinewidth": 0,
              "ticks": ""
             }
            }
           }
          ],
          "scatterternary": [
           {
            "type": "scatterternary",
            "marker": {
             "colorbar": {
              "outlinewidth": 0,
              "ticks": ""
             }
            }
           }
          ],
          "scattercarpet": [
           {
            "type": "scattercarpet",
            "marker": {
             "colorbar": {
              "outlinewidth": 0,
              "ticks": ""
             }
            }
           }
          ],
          "carpet": [
           {
            "aaxis": {
             "endlinecolor": "#A2B1C6",
             "gridcolor": "#506784",
             "linecolor": "#506784",
             "minorgridcolor": "#506784",
             "startlinecolor": "#A2B1C6"
            },
            "baxis": {
             "endlinecolor": "#A2B1C6",
             "gridcolor": "#506784",
             "linecolor": "#506784",
             "minorgridcolor": "#506784",
             "startlinecolor": "#A2B1C6"
            },
            "type": "carpet"
           }
          ],
          "table": [
           {
            "cells": {
             "fill": {
              "color": "#506784"
             },
             "line": {
              "color": "rgb(17,17,17)"
             }
            },
            "header": {
             "fill": {
              "color": "#2a3f5f"
             },
             "line": {
              "color": "rgb(17,17,17)"
             }
            },
            "type": "table"
           }
          ],
          "barpolar": [
           {
            "marker": {
             "line": {
              "color": "rgb(17,17,17)",
              "width": 0.5
             },
             "pattern": {
              "fillmode": "overlay",
              "size": 10,
              "solidity": 0.2
             }
            },
            "type": "barpolar"
           }
          ],
          "pie": [
           {
            "automargin": true,
            "type": "pie"
           }
          ]
         },
         "layout": {
          "autotypenumbers": "strict",
          "colorway": [
           "#636efa",
           "#EF553B",
           "#00cc96",
           "#ab63fa",
           "#FFA15A",
           "#19d3f3",
           "#FF6692",
           "#B6E880",
           "#FF97FF",
           "#FECB52"
          ],
          "font": {
           "color": "#f2f5fa"
          },
          "hovermode": "closest",
          "hoverlabel": {
           "align": "left"
          },
          "paper_bgcolor": "rgb(17,17,17)",
          "plot_bgcolor": "rgb(17,17,17)",
          "polar": {
           "bgcolor": "rgb(17,17,17)",
           "angularaxis": {
            "gridcolor": "#506784",
            "linecolor": "#506784",
            "ticks": ""
           },
           "radialaxis": {
            "gridcolor": "#506784",
            "linecolor": "#506784",
            "ticks": ""
           }
          },
          "ternary": {
           "bgcolor": "rgb(17,17,17)",
           "aaxis": {
            "gridcolor": "#506784",
            "linecolor": "#506784",
            "ticks": ""
           },
           "baxis": {
            "gridcolor": "#506784",
            "linecolor": "#506784",
            "ticks": ""
           },
           "caxis": {
            "gridcolor": "#506784",
            "linecolor": "#506784",
            "ticks": ""
           }
          },
          "coloraxis": {
           "colorbar": {
            "outlinewidth": 0,
            "ticks": ""
           }
          },
          "colorscale": {
           "sequential": [
            [
             0.0,
             "#0d0887"
            ],
            [
             0.1111111111111111,
             "#46039f"
            ],
            [
             0.2222222222222222,
             "#7201a8"
            ],
            [
             0.3333333333333333,
             "#9c179e"
            ],
            [
             0.4444444444444444,
             "#bd3786"
            ],
            [
             0.5555555555555556,
             "#d8576b"
            ],
            [
             0.6666666666666666,
             "#ed7953"
            ],
            [
             0.7777777777777778,
             "#fb9f3a"
            ],
            [
             0.8888888888888888,
             "#fdca26"
            ],
            [
             1.0,
             "#f0f921"
            ]
           ],
           "sequentialminus": [
            [
             0.0,
             "#0d0887"
            ],
            [
             0.1111111111111111,
             "#46039f"
            ],
            [
             0.2222222222222222,
             "#7201a8"
            ],
            [
             0.3333333333333333,
             "#9c179e"
            ],
            [
             0.4444444444444444,
             "#bd3786"
            ],
            [
             0.5555555555555556,
             "#d8576b"
            ],
            [
             0.6666666666666666,
             "#ed7953"
            ],
            [
             0.7777777777777778,
             "#fb9f3a"
            ],
            [
             0.8888888888888888,
             "#fdca26"
            ],
            [
             1.0,
             "#f0f921"
            ]
           ],
           "diverging": [
            [
             0,
             "#8e0152"
            ],
            [
             0.1,
             "#c51b7d"
            ],
            [
             0.2,
             "#de77ae"
            ],
            [
             0.3,
             "#f1b6da"
            ],
            [
             0.4,
             "#fde0ef"
            ],
            [
             0.5,
             "#f7f7f7"
            ],
            [
             0.6,
             "#e6f5d0"
            ],
            [
             0.7,
             "#b8e186"
            ],
            [
             0.8,
             "#7fbc41"
            ],
            [
             0.9,
             "#4d9221"
            ],
            [
             1,
             "#276419"
            ]
           ]
          },
          "xaxis": {
           "gridcolor": "#283442",
           "linecolor": "#506784",
           "ticks": "",
           "title": {
            "standoff": 15
           },
           "zerolinecolor": "#283442",
           "automargin": true,
           "zerolinewidth": 2
          },
          "yaxis": {
           "gridcolor": "#283442",
           "linecolor": "#506784",
           "ticks": "",
           "title": {
            "standoff": 15
           },
           "zerolinecolor": "#283442",
           "automargin": true,
           "zerolinewidth": 2
          },
          "scene": {
           "xaxis": {
            "backgroundcolor": "rgb(17,17,17)",
            "gridcolor": "#506784",
            "linecolor": "#506784",
            "showbackground": true,
            "ticks": "",
            "zerolinecolor": "#C8D4E3",
            "gridwidth": 2
           },
           "yaxis": {
            "backgroundcolor": "rgb(17,17,17)",
            "gridcolor": "#506784",
            "linecolor": "#506784",
            "showbackground": true,
            "ticks": "",
            "zerolinecolor": "#C8D4E3",
            "gridwidth": 2
           },
           "zaxis": {
            "backgroundcolor": "rgb(17,17,17)",
            "gridcolor": "#506784",
            "linecolor": "#506784",
            "showbackground": true,
            "ticks": "",
            "zerolinecolor": "#C8D4E3",
            "gridwidth": 2
           }
          },
          "shapedefaults": {
           "line": {
            "color": "#f2f5fa"
           }
          },
          "annotationdefaults": {
           "arrowcolor": "#f2f5fa",
           "arrowhead": 0,
           "arrowwidth": 1
          },
          "geo": {
           "bgcolor": "rgb(17,17,17)",
           "landcolor": "rgb(17,17,17)",
           "subunitcolor": "#506784",
           "showland": true,
           "showlakes": true,
           "lakecolor": "rgb(17,17,17)"
          },
          "title": {
           "x": 0.05
          },
          "updatemenudefaults": {
           "bgcolor": "#506784",
           "borderwidth": 0
          },
          "sliderdefaults": {
           "bgcolor": "#C8D4E3",
           "borderwidth": 1,
           "bordercolor": "rgb(17,17,17)",
           "tickwidth": 0
          },
          "mapbox": {
           "style": "dark"
          }
         }
        },
        "xaxis": {
         "anchor": "y",
         "domain": [
          0.0,
          0.45
         ]
        },
        "yaxis": {
         "anchor": "x",
         "domain": [
          0.625,
          1.0
         ]
        },
        "xaxis2": {
         "anchor": "y2",
         "domain": [
          0.55,
          1.0
         ]
        },
        "yaxis2": {
         "anchor": "x2",
         "domain": [
          0.625,
          1.0
         ]
        },
        "xaxis3": {
         "anchor": "y3",
         "domain": [
          0.0,
          0.45
         ]
        },
        "yaxis3": {
         "anchor": "x3",
         "domain": [
          0.0,
          0.375
         ]
        },
        "xaxis4": {
         "anchor": "y4",
         "domain": [
          0.55,
          1.0
         ]
        },
        "yaxis4": {
         "anchor": "x4",
         "domain": [
          0.0,
          0.375
         ]
        },
        "annotations": [
         {
          "font": {
           "size": 16
          },
          "showarrow": false,
          "text": "Mission Duration Distribution",
          "x": 0.225,
          "xanchor": "center",
          "xref": "paper",
          "y": 1.0,
          "yanchor": "bottom",
          "yref": "paper"
         },
         {
          "font": {
           "size": 16
          },
          "showarrow": false,
          "text": "EVA Duration Distribution",
          "x": 0.775,
          "xanchor": "center",
          "xref": "paper",
          "y": 1.0,
          "yanchor": "bottom",
          "yref": "paper"
         },
         {
          "font": {
           "size": 16
          },
          "showarrow": false,
          "text": "Mission Duration by Type",
          "x": 0.225,
          "xanchor": "center",
          "xref": "paper",
          "y": 0.375,
          "yanchor": "bottom",
          "yref": "paper"
         },
         {
          "font": {
           "size": 16
          },
          "showarrow": false,
          "text": "Experience vs Mission Duration",
          "x": 0.775,
          "xanchor": "center",
          "xref": "paper",
          "y": 0.375,
          "yanchor": "bottom",
          "yref": "paper"
         }
        ],
        "title": {
         "text": "Mission Duration Analysis Overview"
        },
        "height": 800
       },
       "config": {
        "plotlyServerURL": "https://plot.ly"
       }
      }
     },
     "metadata": {},
     "output_type": "display_data"
    }
   ],
   "execution_count": 5
  },
  {
   "cell_type": "markdown",
   "metadata": {},
   "source": [
    "## 3. Machine Learning Model Development\n",
    "\n",
    "### 3.1 Feature Engineering and Data Preparation"
   ]
  },
  {
   "cell_type": "code",
   "metadata": {
    "ExecuteTime": {
     "end_time": "2025-09-20T19:05:10.309478Z",
     "start_time": "2025-09-20T19:05:10.298628Z"
    }
   },
   "source": "# Advanced Feature Engineering\ndef engineer_features(df):\n    \"\"\"Create advanced features for ML models\"\"\"\n    data = df.copy()\n    \n    # Check what mission count column is actually called\n    mission_count_cols = [col for col in data.columns if 'mission count' in col.lower()]\n    print(f\"Mission count columns found: {mission_count_cols}\")\n    \n    # Use the correct mission count column name\n    mission_count_col = 'Lifetime Mission count' if 'Lifetime Mission count' in data.columns else 'Mission count'\n    if mission_count_col not in data.columns:\n        # Find any column with 'mission' and 'count' in the name\n        for col in data.columns:\n            if 'mission' in col.lower() and 'count' in col.lower():\n                mission_count_col = col\n                break\n    \n    print(f\"Using mission count column: {mission_count_col}\")\n    \n    # Mission era classification\n    data['Mission Era'] = pd.cut(data['Year'], \n                                bins=[0, 1970, 1990, 2010, 2030], \n                                labels=['Early Space Age', 'Space Shuttle Era', 'ISS Era', 'Commercial Era'])\n    \n    # Experience categories\n    data['Experience Level'] = pd.cut(data['Years Experience'], \n                                    bins=[-1, 2, 7, 15, 50], \n                                    labels=['Rookie', 'Junior', 'Senior', 'Veteran'])\n    \n    # Age categories\n    data['Age Group'] = pd.cut(data['Age at Mission'], \n                              bins=[0, 35, 45, 55, 100], \n                              labels=['Young', 'Middle', 'Mature', 'Senior'])\n    \n    # Mission complexity score (based on duration and EVA presence)\n    data['Mission Complexity'] = (\n        (data['Mission duration'] / data['Mission duration'].max()) * 0.7 +\n        (data['EVA duration'] > 0).astype(int) * 0.3\n    )\n    \n    # Career stage - use the correct column name\n    if mission_count_col in data.columns:\n        data['Career Stage'] = data[mission_count_col].apply(lambda x: \n            'First Mission' if x == 1 else\n            'Experienced' if x <= 3 else\n            'Veteran' if x <= 6 else\n            'Elite'\n        )\n    else:\n        # Fallback: create a default career stage\n        data['Career Stage'] = 'Unknown'\n        print(f\"Warning: Could not find mission count column, using default Career Stage\")\n    \n    return data\n\n# Apply feature engineering\ndf_features = engineer_features(df_clean)\n\nprint(\"Feature engineering completed!\")\nprint(f\"New features added: Mission Era, Experience Level, Age Group, Mission Complexity, Career Stage\")\nprint(f\"\\nDataset shape: {df_features.shape}\")\nprint(f\"\\nMission Era distribution: {df_features['Mission Era'].value_counts()}\")",
   "outputs": [
    {
     "name": "stdout",
     "output_type": "stream",
     "text": [
      "Mission count columns found: ['Lifetime Mission count']\n",
      "Using mission count column: Lifetime Mission count\n",
      "Feature engineering completed!\n",
      "New features added: Mission Era, Experience Level, Age Group, Mission Complexity, Career Stage\n",
      "\n",
      "Dataset shape: (1270, 28)\n",
      "\n",
      "Mission Era distribution: Mission Era\n",
      "ISS Era              729\n",
      "Space Shuttle Era    344\n",
      "Commercial Era       126\n",
      "Early Space Age       71\n",
      "Name: count, dtype: int64\n"
     ]
    }
   ],
   "execution_count": 6
  },
  {
   "cell_type": "markdown",
   "metadata": {},
   "source": [
    "### 3.2 External Data Integration and APIs"
   ]
  },
  {
   "cell_type": "code",
   "metadata": {
    "ExecuteTime": {
     "end_time": "2025-09-20T19:05:11.259431Z",
     "start_time": "2025-09-20T19:05:10.314528Z"
    }
   },
   "source": [
    "# External API Integration for Enhanced Mission Data\n",
    "import requests\n",
    "import json\n",
    "from datetime import datetime\n",
    "\n",
    "def fetch_nasa_mission_data():\n",
    "    \"\"\"Fetch additional mission context from NASA APIs\"\"\"\n",
    "    try:\n",
    "        # NASA Open Data API for mission information\n",
    "        nasa_api_url = \"https://api.nasa.gov/mars-photos/api/v1/rovers/curiosity/photos\"\n",
    "        # Using demo key - replace with actual NASA API key for production\n",
    "        params = {\n",
    "            'api_key': 'DEMO_KEY',\n",
    "            'sol': 1000,\n",
    "            'page': 1\n",
    "        }\n",
    "        \n",
    "        # This is a demo - in practice, you'd fetch mission-specific data\n",
    "        response = requests.get(nasa_api_url, params=params, timeout=10)\n",
    "        \n",
    "        if response.status_code == 200:\n",
    "            print(\"✅ NASA API connection successful\")\n",
    "            return response.json()\n",
    "        else:\n",
    "            print(f\"⚠️ NASA API returned status {response.status_code}\")\n",
    "            return None\n",
    "            \n",
    "    except Exception as e:\n",
    "        print(f\"⚠️ Could not fetch NASA data: {e}\")\n",
    "        return None\n",
    "\n",
    "def enhance_with_external_data(df):\n",
    "    \"\"\"Enhance dataset with external space mission data\"\"\"\n",
    "    data = df.copy()\n",
    "    \n",
    "    # Simulated external data enhancement (replace with real API calls)\n",
    "    # Add weather conditions at launch (simulated)\n",
    "    np.random.seed(42)\n",
    "    weather_conditions = ['Clear', 'Cloudy', 'Partly Cloudy', 'Windy']\n",
    "    data['Launch Weather'] = np.random.choice(weather_conditions, size=len(data))\n",
    "    \n",
    "    # Add mission success probability based on historical data\n",
    "    data['Success Probability'] = np.random.uniform(0.85, 0.99, size=len(data))\n",
    "    \n",
    "    # Add spacecraft manufacturer (inferred from mission names)\n",
    "    data['Manufacturer'] = data['Mission Type'].map({\n",
    "        'Mercury': 'McDonnell',\n",
    "        'Gemini': 'McDonnell',\n",
    "        'Apollo': 'North American Aviation',\n",
    "        'Space Shuttle': 'Rockwell International',\n",
    "        'Soyuz': 'Energia',\n",
    "        'Vostok': 'Energia',\n",
    "        'Voskhod': 'Energia'\n",
    "    }).fillna('Other')\n",
    "    \n",
    "    return data\n",
    "\n",
    "# Fetch external data and enhance dataset\n",
    "nasa_data = fetch_nasa_mission_data()\n",
    "df_enhanced = enhance_with_external_data(df_features)\n",
    "\n",
    "print(\"External data integration completed!\")\n",
    "print(f\"Enhanced dataset shape: {df_enhanced.shape}\")\n",
    "if nasa_data:\n",
    "    print(f\"NASA API data available: {len(nasa_data.get('photos', []))} records\")"
   ],
   "outputs": [
    {
     "name": "stdout",
     "output_type": "stream",
     "text": [
      "✅ NASA API connection successful\n",
      "External data integration completed!\n",
      "Enhanced dataset shape: (1270, 31)\n",
      "NASA API data available: 25 records\n"
     ]
    }
   ],
   "execution_count": 7
  },
  {
   "cell_type": "markdown",
   "metadata": {},
   "source": [
    "### 3.3 Advanced ML Model Development"
   ]
  },
  {
   "cell_type": "code",
   "metadata": {
    "ExecuteTime": {
     "end_time": "2025-09-20T19:05:11.318901Z",
     "start_time": "2025-09-20T19:05:11.307877Z"
    }
   },
   "source": "# Advanced ML Pipeline with Transfer Learning Concepts\nfrom sklearn.ensemble import VotingRegressor, StackingRegressor\nfrom sklearn.neural_network import MLPRegressor\nfrom sklearn.svm import SVR\nfrom sklearn.tree import DecisionTreeRegressor\nfrom sklearn.model_selection import cross_validate, StratifiedKFold\nfrom sklearn.pipeline import Pipeline\nfrom sklearn.compose import ColumnTransformer\nfrom sklearn.preprocessing import OneHotEncoder, StandardScaler, RobustScaler\n\ndef prepare_ml_pipeline(df):\n    \"\"\"Prepare comprehensive ML pipeline with proper preprocessing\"\"\"\n    \n    # Select target variable (Mission duration)\n    target_col = 'Mission duration'\n    \n    # Find the correct mission count column\n    mission_count_col = 'Lifetime Mission count' if 'Lifetime Mission count' in df.columns else 'Mission count'\n    if mission_count_col not in df.columns:\n        for col in df.columns:\n            if 'mission' in col.lower() and 'count' in col.lower():\n                mission_count_col = col\n                break\n    \n    print(f\"Using mission count column for ML: {mission_count_col}\")\n    \n    # Define feature categories\n    numeric_features = ['Age at Mission', 'Years Experience', mission_count_col, \n                       'Mission Complexity', 'Success Probability']\n    \n    categorical_features = ['Gender', 'Mission Type', 'Role', 'Nationality', \n                           'Mission Era', 'Experience Level', 'Age Group', \n                           'Career Stage', 'Launch Weather', 'Manufacturer']\n    \n    boolean_features = ['Military']\n    \n    # Create feature dataframe\n    feature_data = df[numeric_features + categorical_features + boolean_features + [target_col]].copy()\n    \n    # Handle missing values\n    feature_data = feature_data.dropna(subset=[target_col])\n    \n    # Fill missing values in numeric features\n    for col in numeric_features:\n        if col in feature_data.columns:\n            feature_data[col] = feature_data[col].fillna(feature_data[col].median())\n    \n    # Handle categorical features (including pandas Categorical dtype)\n    for col in categorical_features:\n        if col in feature_data.columns:\n            # Check if it's a pandas Categorical\n            if hasattr(feature_data[col], 'cat'):\n                # For Categorical data, add 'Unknown' to categories if needed\n                if feature_data[col].isna().any():\n                    if 'Unknown' not in feature_data[col].cat.categories:\n                        feature_data[col] = feature_data[col].cat.add_categories(['Unknown'])\n                    feature_data[col] = feature_data[col].fillna('Unknown')\n            else:\n                # For regular object/string data\n                feature_data[col] = feature_data[col].fillna('Unknown')\n    \n    # Handle boolean features\n    for col in boolean_features:\n        if col in feature_data.columns:\n            feature_data[col] = feature_data[col].fillna(False)\n    \n    # Create preprocessing pipelines\n    numeric_transformer = Pipeline(steps=[\n        ('scaler', RobustScaler())\n    ])\n    \n    categorical_transformer = Pipeline(steps=[\n        ('onehot', OneHotEncoder(handle_unknown='ignore', sparse_output=False))\n    ])\n    \n    # Combine preprocessing steps\n    preprocessor = ColumnTransformer(\n        transformers=[\n            ('num', numeric_transformer, numeric_features),\n            ('cat', categorical_transformer, categorical_features),\n            ('bool', StandardScaler(), boolean_features)\n        ],\n        remainder='drop'\n    )\n    \n    # Prepare final feature matrix and target\n    X = feature_data.drop(columns=[target_col])\n    y = feature_data[target_col]\n    \n    return X, y, preprocessor, numeric_features, categorical_features, boolean_features\n\n# Prepare data for ML\nX, y, preprocessor, num_features, cat_features, bool_features = prepare_ml_pipeline(df_enhanced)\n\nprint(f\"ML Pipeline prepared successfully!\")\nprint(f\"Features: {len(X.columns)} total\")\nprint(f\"- Numeric: {len(num_features)}\")\nprint(f\"- Categorical: {len(cat_features)}\")\nprint(f\"- Boolean: {len(bool_features)}\")\nprint(f\"Samples: {len(X)}\")\nprint(f\"Target range: {y.min():.1f} - {y.max():.1f} hours\")",
   "outputs": [
    {
     "name": "stdout",
     "output_type": "stream",
     "text": [
      "Using mission count column for ML: Lifetime Mission count\n",
      "ML Pipeline prepared successfully!\n",
      "Features: 16 total\n",
      "- Numeric: 5\n",
      "- Categorical: 10\n",
      "- Boolean: 1\n",
      "Samples: 1270\n",
      "Target range: 0.0 - 10505.0 hours\n"
     ]
    }
   ],
   "execution_count": 8
  },
  {
   "cell_type": "code",
   "metadata": {
    "ExecuteTime": {
     "end_time": "2025-09-20T19:05:11.330254Z",
     "start_time": "2025-09-20T19:05:11.325334Z"
    }
   },
   "source": [
    "# Advanced Ensemble Models with Transfer Learning Approach\n",
    "def create_advanced_models():\n",
    "    \"\"\"Create ensemble of advanced models with transfer learning concepts\"\"\"\n",
    "    \n",
    "    # Base models (similar to pre-trained models in transfer learning)\n",
    "    base_models = {\n",
    "        'rf_deep': RandomForestRegressor(\n",
    "            n_estimators=200, \n",
    "            max_depth=15, \n",
    "            min_samples_split=5,\n",
    "            random_state=42\n",
    "        ),\n",
    "        'gb_tuned': GradientBoostingRegressor(\n",
    "            n_estimators=150,\n",
    "            learning_rate=0.1,\n",
    "            max_depth=8,\n",
    "            random_state=42\n",
    "        ),\n",
    "        'neural_net': MLPRegressor(\n",
    "            hidden_layer_sizes=(100, 50, 25),\n",
    "            activation='relu',\n",
    "            solver='adam',\n",
    "            max_iter=1000,\n",
    "            random_state=42\n",
    "        ),\n",
    "        'svr_rbf': SVR(\n",
    "            kernel='rbf',\n",
    "            C=100,\n",
    "            gamma='scale'\n",
    "        )\n",
    "    }\n",
    "    \n",
    "    # Meta-learner for stacking (transfer learning final layer)\n",
    "    meta_learner = Ridge(alpha=1.0)\n",
    "    \n",
    "    # Create stacking ensemble\n",
    "    stacking_regressor = StackingRegressor(\n",
    "        estimators=list(base_models.items()),\n",
    "        final_estimator=meta_learner,\n",
    "        cv=5,\n",
    "        n_jobs=-1\n",
    "    )\n",
    "    \n",
    "    # Voting ensemble\n",
    "    voting_regressor = VotingRegressor(\n",
    "        estimators=list(base_models.items()),\n",
    "        n_jobs=-1\n",
    "    )\n",
    "    \n",
    "    # Individual models with preprocessing\n",
    "    models = {}\n",
    "    for name, model in base_models.items():\n",
    "        models[name] = Pipeline([\n",
    "            ('preprocessor', preprocessor),\n",
    "            ('regressor', model)\n",
    "        ])\n",
    "    \n",
    "    # Ensemble models\n",
    "    models['stacking_ensemble'] = Pipeline([\n",
    "        ('preprocessor', preprocessor),\n",
    "        ('regressor', stacking_regressor)\n",
    "    ])\n",
    "    \n",
    "    models['voting_ensemble'] = Pipeline([\n",
    "        ('preprocessor', preprocessor),\n",
    "        ('regressor', voting_regressor)\n",
    "    ])\n",
    "    \n",
    "    return models\n",
    "\n",
    "# Create models\n",
    "models = create_advanced_models()\n",
    "\n",
    "print(f\"Created {len(models)} advanced models:\")\n",
    "for name in models.keys():\n",
    "    print(f\"  - {name}\")\n",
    "\n",
    "# Split data for training and testing\n",
    "X_train, X_test, y_train, y_test = train_test_split(X, y, test_size=0.2, random_state=42)\n",
    "\n",
    "print(f\"\\nData split:\")\n",
    "print(f\"Training set: {X_train.shape[0]} samples\")\n",
    "print(f\"Test set: {X_test.shape[0]} samples\")"
   ],
   "outputs": [
    {
     "name": "stdout",
     "output_type": "stream",
     "text": [
      "Created 6 advanced models:\n",
      "  - rf_deep\n",
      "  - gb_tuned\n",
      "  - neural_net\n",
      "  - svr_rbf\n",
      "  - stacking_ensemble\n",
      "  - voting_ensemble\n",
      "\n",
      "Data split:\n",
      "Training set: 1016 samples\n",
      "Test set: 254 samples\n"
     ]
    }
   ],
   "execution_count": 9
  },
  {
   "cell_type": "markdown",
   "metadata": {},
   "source": [
    "### 3.4 Model Training and Evaluation"
   ]
  },
  {
   "cell_type": "code",
   "metadata": {
    "ExecuteTime": {
     "end_time": "2025-09-20T19:05:33.763137Z",
     "start_time": "2025-09-20T19:05:11.342572Z"
    }
   },
   "source": [
    "# Comprehensive Model Training and Evaluation\n",
    "def train_and_evaluate_models(models, X_train, X_test, y_train, y_test):\n",
    "    \"\"\"Train and evaluate all models with comprehensive metrics\"\"\"\n",
    "    \n",
    "    results = {}\n",
    "    predictions = {}\n",
    "    \n",
    "    print(\"Training models...\")\n",
    "    print(\"=\" * 50)\n",
    "    \n",
    "    for name, model in models.items():\n",
    "        print(f\"\\nTraining {name}...\")\n",
    "        \n",
    "        try:\n",
    "            # Train model\n",
    "            model.fit(X_train, y_train)\n",
    "            \n",
    "            # Make predictions\n",
    "            y_pred_train = model.predict(X_train)\n",
    "            y_pred_test = model.predict(X_test)\n",
    "            \n",
    "            # Calculate metrics\n",
    "            train_rmse = np.sqrt(mean_squared_error(y_train, y_pred_train))\n",
    "            test_rmse = np.sqrt(mean_squared_error(y_test, y_pred_test))\n",
    "            train_r2 = r2_score(y_train, y_pred_train)\n",
    "            test_r2 = r2_score(y_test, y_pred_test)\n",
    "            test_mae = mean_absolute_error(y_test, y_pred_test)\n",
    "            \n",
    "            # Cross-validation\n",
    "            cv_scores = cross_val_score(model, X_train, y_train, cv=5, \n",
    "                                       scoring='neg_root_mean_squared_error', n_jobs=-1)\n",
    "            cv_rmse = -cv_scores.mean()\n",
    "            cv_std = cv_scores.std()\n",
    "            \n",
    "            results[name] = {\n",
    "                'Train RMSE': train_rmse,\n",
    "                'Test RMSE': test_rmse,\n",
    "                'Train R²': train_r2,\n",
    "                'Test R²': test_r2,\n",
    "                'Test MAE': test_mae,\n",
    "                'CV RMSE': cv_rmse,\n",
    "                'CV Std': cv_std,\n",
    "                'Overfitting': abs(train_rmse - test_rmse)\n",
    "            }\n",
    "            \n",
    "            predictions[name] = y_pred_test\n",
    "            \n",
    "            print(f\"  ✅ {name} completed\")\n",
    "            print(f\"     Test R²: {test_r2:.3f}, Test RMSE: {test_rmse:.2f}\")\n",
    "            \n",
    "        except Exception as e:\n",
    "            print(f\"  ❌ {name} failed: {e}\")\n",
    "            continue\n",
    "    \n",
    "    return results, predictions\n",
    "\n",
    "# Train and evaluate models\n",
    "results, predictions = train_and_evaluate_models(models, X_train, X_test, y_train, y_test)\n",
    "\n",
    "# Display results\n",
    "results_df = pd.DataFrame(results).T\n",
    "print(f\"\\n{'='*60}\")\n",
    "print(\"MODEL PERFORMANCE COMPARISON\")\n",
    "print(\"=\"*60)\n",
    "print(results_df.round(3).sort_values('Test R²', ascending=False))"
   ],
   "outputs": [
    {
     "name": "stdout",
     "output_type": "stream",
     "text": [
      "Training models...\n",
      "==================================================\n",
      "\n",
      "Training rf_deep...\n",
      "  ✅ rf_deep completed\n",
      "     Test R²: 0.967, Test RMSE: 327.81\n",
      "\n",
      "Training gb_tuned...\n",
      "  ✅ gb_tuned completed\n",
      "     Test R²: 0.942, Test RMSE: 434.24\n",
      "\n",
      "Training neural_net...\n",
      "  ✅ neural_net completed\n",
      "     Test R²: 0.870, Test RMSE: 649.51\n",
      "\n",
      "Training svr_rbf...\n",
      "  ✅ svr_rbf completed\n",
      "     Test R²: 0.716, Test RMSE: 960.80\n",
      "\n",
      "Training stacking_ensemble...\n",
      "  ✅ stacking_ensemble completed\n",
      "     Test R²: 0.962, Test RMSE: 351.83\n",
      "\n",
      "Training voting_ensemble...\n",
      "  ✅ voting_ensemble completed\n",
      "     Test R²: 0.931, Test RMSE: 472.56\n",
      "\n",
      "============================================================\n",
      "MODEL PERFORMANCE COMPARISON\n",
      "============================================================\n",
      "                   Train RMSE  Test RMSE  Train R²  Test R²  Test MAE  \\\n",
      "rf_deep               181.485    327.812     0.989    0.967    58.611   \n",
      "stacking_ensemble     153.432    351.834     0.992    0.962    78.417   \n",
      "gb_tuned                0.132    434.245     1.000    0.942    64.659   \n",
      "voting_ensemble       340.780    472.556     0.959    0.931   168.800   \n",
      "neural_net            535.884    649.514     0.900    0.870   308.518   \n",
      "svr_rbf               876.468    960.804     0.732    0.716   431.943   \n",
      "\n",
      "                   CV RMSE  CV Std  Overfitting  \n",
      "rf_deep            397.192  87.415      146.326  \n",
      "stacking_ensemble  420.913  89.622      198.402  \n",
      "gb_tuned           415.502  96.426      434.113  \n",
      "voting_ensemble    492.770  48.377      131.775  \n",
      "neural_net         629.485  47.029      113.630  \n",
      "svr_rbf            973.595  86.915       84.336  \n"
     ]
    }
   ],
   "execution_count": 10
  },
  {
   "cell_type": "markdown",
   "metadata": {},
   "source": [
    "### 3.5 Model Visualization"
   ]
  },
  {
   "cell_type": "code",
   "metadata": {
    "ExecuteTime": {
     "end_time": "2025-09-20T19:05:33.840968Z",
     "start_time": "2025-09-20T19:05:33.822978Z"
    }
   },
   "source": [
    "# Advanced Model Visualization and Analysis\n",
    "def create_model_visualizations(results_df, predictions, y_test):\n",
    "    \"\"\"Create comprehensive visualizations for model performance\"\"\"\n",
    "    \n",
    "    # Create subplots\n",
    "    fig = make_subplots(\n",
    "        rows=2, cols=2,\n",
    "        subplot_titles=('Model Performance Comparison', 'Prediction vs Actual', \n",
    "                       'Residual Analysis', 'Cross-Validation Scores'),\n",
    "        specs=[[{\"secondary_y\": False}, {\"secondary_y\": False}],\n",
    "               [{\"secondary_y\": False}, {\"secondary_y\": False}]]\n",
    "    )\n",
    "    \n",
    "    # 1. Model Performance Bar Chart\n",
    "    fig.add_trace(\n",
    "        go.Bar(x=results_df.index, y=results_df['Test R²'], \n",
    "               name='Test R²', marker_color='lightblue'),\n",
    "        row=1, col=1\n",
    "    )\n",
    "    \n",
    "    # 2. Best model predictions vs actual\n",
    "    best_model = results_df['Test R²'].idxmax()\n",
    "    best_predictions = predictions[best_model]\n",
    "    \n",
    "    fig.add_trace(\n",
    "        go.Scatter(x=y_test, y=best_predictions, mode='markers',\n",
    "                  name=f'{best_model} Predictions',\n",
    "                  marker=dict(color='red', opacity=0.6)),\n",
    "        row=1, col=2\n",
    "    )\n",
    "    \n",
    "    # Add perfect prediction line\n",
    "    min_val, max_val = min(y_test.min(), best_predictions.min()), max(y_test.max(), best_predictions.max())\n",
    "    fig.add_trace(\n",
    "        go.Scatter(x=[min_val, max_val], y=[min_val, max_val],\n",
    "                  mode='lines', name='Perfect Prediction',\n",
    "                  line=dict(dash='dash', color='black')),\n",
    "        row=1, col=2\n",
    "    )\n",
    "    \n",
    "    # 3. Residual analysis\n",
    "    residuals = y_test - best_predictions\n",
    "    fig.add_trace(\n",
    "        go.Scatter(x=best_predictions, y=residuals, mode='markers',\n",
    "                  name='Residuals', marker=dict(color='green', opacity=0.6)),\n",
    "        row=2, col=1\n",
    "    )\n",
    "    \n",
    "    # 4. Cross-validation scores\n",
    "    fig.add_trace(\n",
    "        go.Bar(x=results_df.index, y=results_df['CV RMSE'],\n",
    "               error_y=dict(type='data', array=results_df['CV Std']),\n",
    "               name='CV RMSE', marker_color='orange'),\n",
    "        row=2, col=2\n",
    "    )\n",
    "    \n",
    "    fig.update_layout(height=800, title_text=\"Advanced Model Performance Analysis\")\n",
    "    fig.show()\n",
    "    \n",
    "    return best_model\n",
    "\n",
    "# Create visualizations\n",
    "best_model_name = create_model_visualizations(results_df, predictions, y_test)\n",
    "\n",
    "print(f\"\\n🏆 Best performing model: {best_model_name}\")\n",
    "print(f\"📊 Performance metrics:\")\n",
    "print(f\"   R² Score: {results_df.loc[best_model_name, 'Test R²']:.4f}\")\n",
    "print(f\"   RMSE: {results_df.loc[best_model_name, 'Test RMSE']:.2f} hours\")\n",
    "print(f\"   MAE: {results_df.loc[best_model_name, 'Test MAE']:.2f} hours\")"
   ],
   "outputs": [
    {
     "data": {
      "application/vnd.plotly.v1+json": {
       "data": [
        {
         "marker": {
          "color": "lightblue"
         },
         "name": "Test R²",
         "x": [
          "rf_deep",
          "gb_tuned",
          "neural_net",
          "svr_rbf",
          "stacking_ensemble",
          "voting_ensemble"
         ],
         "y": {
          "dtype": "f8",
          "bdata": "E42QCVXx7j8rd6QECiXuP7wWgDRp2es/agf8v9Dq5j+WNRRENcjuP27yyHuJze0/"
         },
         "type": "bar",
         "xaxis": "x",
         "yaxis": "y"
        },
        {
         "marker": {
          "color": "red",
          "opacity": 0.6
         },
         "mode": "markers",
         "name": "rf_deep Predictions",
         "x": {
          "dtype": "f8",
          "bdata": "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"
         },
         "y": {
          "dtype": "f8",
          "bdata": "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"
         },
         "type": "scatter",
         "xaxis": "x2",
         "yaxis": "y2"
        },
        {
         "line": {
          "color": "black",
          "dash": "dash"
         },
         "mode": "lines",
         "name": "Perfect Prediction",
         "x": [
          0.0,
          10505.0
         ],
         "y": [
          0.0,
          10505.0
         ],
         "type": "scatter",
         "xaxis": "x2",
         "yaxis": "y2"
        },
        {
         "marker": {
          "color": "green",
          "opacity": 0.6
         },
         "mode": "markers",
         "name": "Residuals",
         "x": {
          "dtype": "f8",
          "bdata": "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"
         },
         "y": {
          "dtype": "f8",
          "bdata": "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"
         },
         "type": "scatter",
         "xaxis": "x3",
         "yaxis": "y3"
        },
        {
         "error_y": {
          "array": {
           "dtype": "f8",
           "bdata": "qmmfTJDaVUAP93z+RRtYQC/BKXWtg0dAabqhi466VUBWtb++zmdWQGPN5u41MEhA"
          },
          "type": "data"
         },
         "marker": {
          "color": "orange"
         },
         "name": "CV RMSE",
         "x": [
          "rf_deep",
          "gb_tuned",
          "neural_net",
          "svr_rbf",
          "stacking_ensemble",
          "voting_ensemble"
         ],
         "y": {
          "dtype": "f8",
          "bdata": "12KXuRPTeEAQbrqdCPh5QC6p8l3hq4NA/sSC4sJsjkCOIjTgmU56QCq139FQzH5A"
         },
         "type": "bar",
         "xaxis": "x4",
         "yaxis": "y4"
        }
       ],
       "layout": {
        "template": {
         "data": {
          "histogram2dcontour": [
           {
            "type": "histogram2dcontour",
            "colorbar": {
             "outlinewidth": 0,
             "ticks": ""
            },
            "colorscale": [
             [
              0.0,
              "#0d0887"
             ],
             [
              0.1111111111111111,
              "#46039f"
             ],
             [
              0.2222222222222222,
              "#7201a8"
             ],
             [
              0.3333333333333333,
              "#9c179e"
             ],
             [
              0.4444444444444444,
              "#bd3786"
             ],
             [
              0.5555555555555556,
              "#d8576b"
             ],
             [
              0.6666666666666666,
              "#ed7953"
             ],
             [
              0.7777777777777778,
              "#fb9f3a"
             ],
             [
              0.8888888888888888,
              "#fdca26"
             ],
             [
              1.0,
              "#f0f921"
             ]
            ]
           }
          ],
          "choropleth": [
           {
            "type": "choropleth",
            "colorbar": {
             "outlinewidth": 0,
             "ticks": ""
            }
           }
          ],
          "histogram2d": [
           {
            "type": "histogram2d",
            "colorbar": {
             "outlinewidth": 0,
             "ticks": ""
            },
            "colorscale": [
             [
              0.0,
              "#0d0887"
             ],
             [
              0.1111111111111111,
              "#46039f"
             ],
             [
              0.2222222222222222,
              "#7201a8"
             ],
             [
              0.3333333333333333,
              "#9c179e"
             ],
             [
              0.4444444444444444,
              "#bd3786"
             ],
             [
              0.5555555555555556,
              "#d8576b"
             ],
             [
              0.6666666666666666,
              "#ed7953"
             ],
             [
              0.7777777777777778,
              "#fb9f3a"
             ],
             [
              0.8888888888888888,
              "#fdca26"
             ],
             [
              1.0,
              "#f0f921"
             ]
            ]
           }
          ],
          "heatmap": [
           {
            "type": "heatmap",
            "colorbar": {
             "outlinewidth": 0,
             "ticks": ""
            },
            "colorscale": [
             [
              0.0,
              "#0d0887"
             ],
             [
              0.1111111111111111,
              "#46039f"
             ],
             [
              0.2222222222222222,
              "#7201a8"
             ],
             [
              0.3333333333333333,
              "#9c179e"
             ],
             [
              0.4444444444444444,
              "#bd3786"
             ],
             [
              0.5555555555555556,
              "#d8576b"
             ],
             [
              0.6666666666666666,
              "#ed7953"
             ],
             [
              0.7777777777777778,
              "#fb9f3a"
             ],
             [
              0.8888888888888888,
              "#fdca26"
             ],
             [
              1.0,
              "#f0f921"
             ]
            ]
           }
          ],
          "contourcarpet": [
           {
            "type": "contourcarpet",
            "colorbar": {
             "outlinewidth": 0,
             "ticks": ""
            }
           }
          ],
          "contour": [
           {
            "type": "contour",
            "colorbar": {
             "outlinewidth": 0,
             "ticks": ""
            },
            "colorscale": [
             [
              0.0,
              "#0d0887"
             ],
             [
              0.1111111111111111,
              "#46039f"
             ],
             [
              0.2222222222222222,
              "#7201a8"
             ],
             [
              0.3333333333333333,
              "#9c179e"
             ],
             [
              0.4444444444444444,
              "#bd3786"
             ],
             [
              0.5555555555555556,
              "#d8576b"
             ],
             [
              0.6666666666666666,
              "#ed7953"
             ],
             [
              0.7777777777777778,
              "#fb9f3a"
             ],
             [
              0.8888888888888888,
              "#fdca26"
             ],
             [
              1.0,
              "#f0f921"
             ]
            ]
           }
          ],
          "surface": [
           {
            "type": "surface",
            "colorbar": {
             "outlinewidth": 0,
             "ticks": ""
            },
            "colorscale": [
             [
              0.0,
              "#0d0887"
             ],
             [
              0.1111111111111111,
              "#46039f"
             ],
             [
              0.2222222222222222,
              "#7201a8"
             ],
             [
              0.3333333333333333,
              "#9c179e"
             ],
             [
              0.4444444444444444,
              "#bd3786"
             ],
             [
              0.5555555555555556,
              "#d8576b"
             ],
             [
              0.6666666666666666,
              "#ed7953"
             ],
             [
              0.7777777777777778,
              "#fb9f3a"
             ],
             [
              0.8888888888888888,
              "#fdca26"
             ],
             [
              1.0,
              "#f0f921"
             ]
            ]
           }
          ],
          "mesh3d": [
           {
            "type": "mesh3d",
            "colorbar": {
             "outlinewidth": 0,
             "ticks": ""
            }
           }
          ],
          "scatter": [
           {
            "marker": {
             "line": {
              "color": "#283442"
             }
            },
            "type": "scatter"
           }
          ],
          "parcoords": [
           {
            "type": "parcoords",
            "line": {
             "colorbar": {
              "outlinewidth": 0,
              "ticks": ""
             }
            }
           }
          ],
          "scatterpolargl": [
           {
            "type": "scatterpolargl",
            "marker": {
             "colorbar": {
              "outlinewidth": 0,
              "ticks": ""
             }
            }
           }
          ],
          "bar": [
           {
            "error_x": {
             "color": "#f2f5fa"
            },
            "error_y": {
             "color": "#f2f5fa"
            },
            "marker": {
             "line": {
              "color": "rgb(17,17,17)",
              "width": 0.5
             },
             "pattern": {
              "fillmode": "overlay",
              "size": 10,
              "solidity": 0.2
             }
            },
            "type": "bar"
           }
          ],
          "scattergeo": [
           {
            "type": "scattergeo",
            "marker": {
             "colorbar": {
              "outlinewidth": 0,
              "ticks": ""
             }
            }
           }
          ],
          "scatterpolar": [
           {
            "type": "scatterpolar",
            "marker": {
             "colorbar": {
              "outlinewidth": 0,
              "ticks": ""
             }
            }
           }
          ],
          "histogram": [
           {
            "marker": {
             "pattern": {
              "fillmode": "overlay",
              "size": 10,
              "solidity": 0.2
             }
            },
            "type": "histogram"
           }
          ],
          "scattergl": [
           {
            "marker": {
             "line": {
              "color": "#283442"
             }
            },
            "type": "scattergl"
           }
          ],
          "scatter3d": [
           {
            "type": "scatter3d",
            "line": {
             "colorbar": {
              "outlinewidth": 0,
              "ticks": ""
             }
            },
            "marker": {
             "colorbar": {
              "outlinewidth": 0,
              "ticks": ""
             }
            }
           }
          ],
          "scattermap": [
           {
            "type": "scattermap",
            "marker": {
             "colorbar": {
              "outlinewidth": 0,
              "ticks": ""
             }
            }
           }
          ],
          "scattermapbox": [
           {
            "type": "scattermapbox",
            "marker": {
             "colorbar": {
              "outlinewidth": 0,
              "ticks": ""
             }
            }
           }
          ],
          "scatterternary": [
           {
            "type": "scatterternary",
            "marker": {
             "colorbar": {
              "outlinewidth": 0,
              "ticks": ""
             }
            }
           }
          ],
          "scattercarpet": [
           {
            "type": "scattercarpet",
            "marker": {
             "colorbar": {
              "outlinewidth": 0,
              "ticks": ""
             }
            }
           }
          ],
          "carpet": [
           {
            "aaxis": {
             "endlinecolor": "#A2B1C6",
             "gridcolor": "#506784",
             "linecolor": "#506784",
             "minorgridcolor": "#506784",
             "startlinecolor": "#A2B1C6"
            },
            "baxis": {
             "endlinecolor": "#A2B1C6",
             "gridcolor": "#506784",
             "linecolor": "#506784",
             "minorgridcolor": "#506784",
             "startlinecolor": "#A2B1C6"
            },
            "type": "carpet"
           }
          ],
          "table": [
           {
            "cells": {
             "fill": {
              "color": "#506784"
             },
             "line": {
              "color": "rgb(17,17,17)"
             }
            },
            "header": {
             "fill": {
              "color": "#2a3f5f"
             },
             "line": {
              "color": "rgb(17,17,17)"
             }
            },
            "type": "table"
           }
          ],
          "barpolar": [
           {
            "marker": {
             "line": {
              "color": "rgb(17,17,17)",
              "width": 0.5
             },
             "pattern": {
              "fillmode": "overlay",
              "size": 10,
              "solidity": 0.2
             }
            },
            "type": "barpolar"
           }
          ],
          "pie": [
           {
            "automargin": true,
            "type": "pie"
           }
          ]
         },
         "layout": {
          "autotypenumbers": "strict",
          "colorway": [
           "#636efa",
           "#EF553B",
           "#00cc96",
           "#ab63fa",
           "#FFA15A",
           "#19d3f3",
           "#FF6692",
           "#B6E880",
           "#FF97FF",
           "#FECB52"
          ],
          "font": {
           "color": "#f2f5fa"
          },
          "hovermode": "closest",
          "hoverlabel": {
           "align": "left"
          },
          "paper_bgcolor": "rgb(17,17,17)",
          "plot_bgcolor": "rgb(17,17,17)",
          "polar": {
           "bgcolor": "rgb(17,17,17)",
           "angularaxis": {
            "gridcolor": "#506784",
            "linecolor": "#506784",
            "ticks": ""
           },
           "radialaxis": {
            "gridcolor": "#506784",
            "linecolor": "#506784",
            "ticks": ""
           }
          },
          "ternary": {
           "bgcolor": "rgb(17,17,17)",
           "aaxis": {
            "gridcolor": "#506784",
            "linecolor": "#506784",
            "ticks": ""
           },
           "baxis": {
            "gridcolor": "#506784",
            "linecolor": "#506784",
            "ticks": ""
           },
           "caxis": {
            "gridcolor": "#506784",
            "linecolor": "#506784",
            "ticks": ""
           }
          },
          "coloraxis": {
           "colorbar": {
            "outlinewidth": 0,
            "ticks": ""
           }
          },
          "colorscale": {
           "sequential": [
            [
             0.0,
             "#0d0887"
            ],
            [
             0.1111111111111111,
             "#46039f"
            ],
            [
             0.2222222222222222,
             "#7201a8"
            ],
            [
             0.3333333333333333,
             "#9c179e"
            ],
            [
             0.4444444444444444,
             "#bd3786"
            ],
            [
             0.5555555555555556,
             "#d8576b"
            ],
            [
             0.6666666666666666,
             "#ed7953"
            ],
            [
             0.7777777777777778,
             "#fb9f3a"
            ],
            [
             0.8888888888888888,
             "#fdca26"
            ],
            [
             1.0,
             "#f0f921"
            ]
           ],
           "sequentialminus": [
            [
             0.0,
             "#0d0887"
            ],
            [
             0.1111111111111111,
             "#46039f"
            ],
            [
             0.2222222222222222,
             "#7201a8"
            ],
            [
             0.3333333333333333,
             "#9c179e"
            ],
            [
             0.4444444444444444,
             "#bd3786"
            ],
            [
             0.5555555555555556,
             "#d8576b"
            ],
            [
             0.6666666666666666,
             "#ed7953"
            ],
            [
             0.7777777777777778,
             "#fb9f3a"
            ],
            [
             0.8888888888888888,
             "#fdca26"
            ],
            [
             1.0,
             "#f0f921"
            ]
           ],
           "diverging": [
            [
             0,
             "#8e0152"
            ],
            [
             0.1,
             "#c51b7d"
            ],
            [
             0.2,
             "#de77ae"
            ],
            [
             0.3,
             "#f1b6da"
            ],
            [
             0.4,
             "#fde0ef"
            ],
            [
             0.5,
             "#f7f7f7"
            ],
            [
             0.6,
             "#e6f5d0"
            ],
            [
             0.7,
             "#b8e186"
            ],
            [
             0.8,
             "#7fbc41"
            ],
            [
             0.9,
             "#4d9221"
            ],
            [
             1,
             "#276419"
            ]
           ]
          },
          "xaxis": {
           "gridcolor": "#283442",
           "linecolor": "#506784",
           "ticks": "",
           "title": {
            "standoff": 15
           },
           "zerolinecolor": "#283442",
           "automargin": true,
           "zerolinewidth": 2
          },
          "yaxis": {
           "gridcolor": "#283442",
           "linecolor": "#506784",
           "ticks": "",
           "title": {
            "standoff": 15
           },
           "zerolinecolor": "#283442",
           "automargin": true,
           "zerolinewidth": 2
          },
          "scene": {
           "xaxis": {
            "backgroundcolor": "rgb(17,17,17)",
            "gridcolor": "#506784",
            "linecolor": "#506784",
            "showbackground": true,
            "ticks": "",
            "zerolinecolor": "#C8D4E3",
            "gridwidth": 2
           },
           "yaxis": {
            "backgroundcolor": "rgb(17,17,17)",
            "gridcolor": "#506784",
            "linecolor": "#506784",
            "showbackground": true,
            "ticks": "",
            "zerolinecolor": "#C8D4E3",
            "gridwidth": 2
           },
           "zaxis": {
            "backgroundcolor": "rgb(17,17,17)",
            "gridcolor": "#506784",
            "linecolor": "#506784",
            "showbackground": true,
            "ticks": "",
            "zerolinecolor": "#C8D4E3",
            "gridwidth": 2
           }
          },
          "shapedefaults": {
           "line": {
            "color": "#f2f5fa"
           }
          },
          "annotationdefaults": {
           "arrowcolor": "#f2f5fa",
           "arrowhead": 0,
           "arrowwidth": 1
          },
          "geo": {
           "bgcolor": "rgb(17,17,17)",
           "landcolor": "rgb(17,17,17)",
           "subunitcolor": "#506784",
           "showland": true,
           "showlakes": true,
           "lakecolor": "rgb(17,17,17)"
          },
          "title": {
           "x": 0.05
          },
          "updatemenudefaults": {
           "bgcolor": "#506784",
           "borderwidth": 0
          },
          "sliderdefaults": {
           "bgcolor": "#C8D4E3",
           "borderwidth": 1,
           "bordercolor": "rgb(17,17,17)",
           "tickwidth": 0
          },
          "mapbox": {
           "style": "dark"
          }
         }
        },
        "xaxis": {
         "anchor": "y",
         "domain": [
          0.0,
          0.45
         ]
        },
        "yaxis": {
         "anchor": "x",
         "domain": [
          0.625,
          1.0
         ]
        },
        "xaxis2": {
         "anchor": "y2",
         "domain": [
          0.55,
          1.0
         ]
        },
        "yaxis2": {
         "anchor": "x2",
         "domain": [
          0.625,
          1.0
         ]
        },
        "xaxis3": {
         "anchor": "y3",
         "domain": [
          0.0,
          0.45
         ]
        },
        "yaxis3": {
         "anchor": "x3",
         "domain": [
          0.0,
          0.375
         ]
        },
        "xaxis4": {
         "anchor": "y4",
         "domain": [
          0.55,
          1.0
         ]
        },
        "yaxis4": {
         "anchor": "x4",
         "domain": [
          0.0,
          0.375
         ]
        },
        "annotations": [
         {
          "font": {
           "size": 16
          },
          "showarrow": false,
          "text": "Model Performance Comparison",
          "x": 0.225,
          "xanchor": "center",
          "xref": "paper",
          "y": 1.0,
          "yanchor": "bottom",
          "yref": "paper"
         },
         {
          "font": {
           "size": 16
          },
          "showarrow": false,
          "text": "Prediction vs Actual",
          "x": 0.775,
          "xanchor": "center",
          "xref": "paper",
          "y": 1.0,
          "yanchor": "bottom",
          "yref": "paper"
         },
         {
          "font": {
           "size": 16
          },
          "showarrow": false,
          "text": "Residual Analysis",
          "x": 0.225,
          "xanchor": "center",
          "xref": "paper",
          "y": 0.375,
          "yanchor": "bottom",
          "yref": "paper"
         },
         {
          "font": {
           "size": 16
          },
          "showarrow": false,
          "text": "Cross-Validation Scores",
          "x": 0.775,
          "xanchor": "center",
          "xref": "paper",
          "y": 0.375,
          "yanchor": "bottom",
          "yref": "paper"
         }
        ],
        "title": {
         "text": "Advanced Model Performance Analysis"
        },
        "height": 800
       },
       "config": {
        "plotlyServerURL": "https://plot.ly"
       }
      }
     },
     "metadata": {},
     "output_type": "display_data"
    },
    {
     "name": "stdout",
     "output_type": "stream",
     "text": [
      "\n",
      "🏆 Best performing model: rf_deep\n",
      "📊 Performance metrics:\n",
      "   R² Score: 0.9670\n",
      "   RMSE: 327.81 hours\n",
      "   MAE: 58.61 hours\n"
     ]
    }
   ],
   "execution_count": 11
  },
  {
   "cell_type": "markdown",
   "metadata": {},
   "source": [
    "### 3.6 Production-Ready Prediction System"
   ]
  },
  {
   "cell_type": "code",
   "metadata": {
    "ExecuteTime": {
     "end_time": "2025-09-20T19:05:33.856085Z",
     "start_time": "2025-09-20T19:05:33.850849Z"
    }
   },
   "source": [
    "# Production-Ready Mission Duration Predictor\n",
    "class MissionDurationPredictor:\n",
    "    \"\"\"Production-ready mission duration prediction system\"\"\"\n",
    "    \n",
    "    def __init__(self, model, feature_names):\n",
    "        self.model = model\n",
    "        self.feature_names = feature_names\n",
    "        self.prediction_history = []\n",
    "        \n",
    "    def predict_mission_duration(self, astronaut_profile):\n",
    "        \"\"\"Predict mission duration for a given astronaut profile\"\"\"\n",
    "        \n",
    "        # Create input dataframe\n",
    "        input_data = pd.DataFrame([astronaut_profile])\n",
    "        \n",
    "        # Ensure all required features are present\n",
    "        for feature in self.feature_names:\n",
    "            if feature not in input_data.columns:\n",
    "                input_data[feature] = 'Unknown' if str(input_data.dtypes[0]) == 'object' else 0\n",
    "        \n",
    "        # Make prediction\n",
    "        try:\n",
    "            prediction = self.model.predict(input_data[self.feature_names])[0]\n",
    "            \n",
    "            # Calculate confidence interval (simplified)\n",
    "            confidence_interval = prediction * 0.15  # ±15% confidence\n",
    "            \n",
    "            result = {\n",
    "                'predicted_duration_hours': max(0, prediction),\n",
    "                'predicted_duration_days': max(0, prediction / 24),\n",
    "                'confidence_interval_hours': (\n",
    "                    max(0, prediction - confidence_interval),\n",
    "                    prediction + confidence_interval\n",
    "                ),\n",
    "                'risk_assessment': self._assess_risk(prediction, astronaut_profile),\n",
    "                'recommendations': self._generate_recommendations(prediction, astronaut_profile)\n",
    "            }\n",
    "            \n",
    "            # Store prediction\n",
    "            self.prediction_history.append({\n",
    "                'timestamp': datetime.now(),\n",
    "                'input': astronaut_profile,\n",
    "                'prediction': result\n",
    "            })\n",
    "            \n",
    "            return result\n",
    "            \n",
    "        except Exception as e:\n",
    "            return {'error': f'Prediction failed: {str(e)}'}\n",
    "    \n",
    "    def _assess_risk(self, prediction, profile):\n",
    "        \"\"\"Assess mission risk based on prediction and profile\"\"\"\n",
    "        risk_factors = []\n",
    "        \n",
    "        if prediction > 500:  # Very long missions\n",
    "            risk_factors.append('Extended mission duration')\n",
    "        \n",
    "        if profile.get('Age at Mission', 0) > 50:\n",
    "            risk_factors.append('Advanced age')\n",
    "            \n",
    "        if profile.get('Years Experience', 0) < 2:\n",
    "            risk_factors.append('Limited experience')\n",
    "            \n",
    "        risk_level = 'HIGH' if len(risk_factors) >= 2 else 'MEDIUM' if risk_factors else 'LOW'\n",
    "        \n",
    "        return {\n",
    "            'level': risk_level,\n",
    "            'factors': risk_factors\n",
    "        }\n",
    "    \n",
    "    def _generate_recommendations(self, prediction, profile):\n",
    "        \"\"\"Generate mission planning recommendations\"\"\"\n",
    "        recommendations = []\n",
    "        \n",
    "        if prediction > 300:\n",
    "            recommendations.append('Consider additional crew rotation planning')\n",
    "            recommendations.append('Ensure robust life support systems')\n",
    "        \n",
    "        if profile.get('Years Experience', 0) < 5:\n",
    "            recommendations.append('Pair with experienced crew members')\n",
    "            recommendations.append('Provide additional mission-specific training')\n",
    "        \n",
    "        if profile.get('Mission count', 0) == 1:\n",
    "            recommendations.append('First mission - ensure comprehensive preparation')\n",
    "        \n",
    "        return recommendations\n",
    "\n",
    "# Initialize the production predictor\n",
    "best_model = models[best_model_name]\n",
    "predictor = MissionDurationPredictor(best_model, X.columns.tolist())\n",
    "\n",
    "print(\"🚀 Production-Ready Mission Duration Predictor Initialized!\")"
   ],
   "outputs": [
    {
     "name": "stdout",
     "output_type": "stream",
     "text": [
      "🚀 Production-Ready Mission Duration Predictor Initialized!\n"
     ]
    }
   ],
   "execution_count": 12
  },
  {
   "cell_type": "markdown",
   "source": "### 3.7 Real-World Prediction Examples and Feature Importance",
   "metadata": {}
  },
  {
   "metadata": {
    "ExecuteTime": {
     "end_time": "2025-09-20T19:05:33.904690Z",
     "start_time": "2025-09-20T19:05:33.881776Z"
    }
   },
   "cell_type": "code",
   "outputs": [
    {
     "name": "stdout",
     "output_type": "stream",
     "text": [
      "🔮 MISSION DURATION PREDICTIONS\n",
      "============================================================\n",
      "\n",
      "==================== SCENARIO 1 ====================\n",
      "👨‍🚀 Astronaut: Future ISS Commander\n",
      "📊 Profile: 42yr old male, 8yr exp, Mission #2\n",
      "🚀 Mission: ISS Expedition - commander\n",
      "\n",
      "📈 PREDICTION RESULTS:\n",
      "   Duration: 2918.6 hours (121.6 days)\n",
      "   Confidence: 2480.8 - 3356.4 hours\n",
      "   Risk Level: MEDIUM\n",
      "   Risk Factors: Extended mission duration\n",
      "   Recommendations:\n",
      "     • Consider additional crew rotation planning\n",
      "     • Ensure robust life support systems\n",
      "\n",
      "==================== SCENARIO 2 ====================\n",
      "👨‍🚀 Astronaut: Young Commercial Astronaut\n",
      "📊 Profile: 34yr old female, 3yr exp, Mission #1\n",
      "🚀 Mission: Commercial Crew - pilot\n",
      "\n",
      "📈 PREDICTION RESULTS:\n",
      "   Duration: 2107.2 hours (87.8 days)\n",
      "   Confidence: 1791.1 - 2423.3 hours\n",
      "   Risk Level: MEDIUM\n",
      "   Risk Factors: Extended mission duration\n",
      "   Recommendations:\n",
      "     • Consider additional crew rotation planning\n",
      "     • Ensure robust life support systems\n",
      "     • Pair with experienced crew members\n",
      "     • Provide additional mission-specific training\n",
      "\n",
      "==================== SCENARIO 3 ====================\n",
      "👨‍🚀 Astronaut: Veteran Space Station Specialist\n",
      "📊 Profile: 48yr old male, 15yr exp, Mission #5\n",
      "🚀 Mission: Soyuz - mission specialist\n",
      "\n",
      "📈 PREDICTION RESULTS:\n",
      "   Duration: 4000.6 hours (166.7 days)\n",
      "   Confidence: 3400.5 - 4600.7 hours\n",
      "   Risk Level: MEDIUM\n",
      "   Risk Factors: Extended mission duration\n",
      "   Recommendations:\n",
      "     • Consider additional crew rotation planning\n",
      "     • Ensure robust life support systems\n",
      "\n",
      "\n",
      "📊 PREDICTION SUMMARY:\n",
      "Total predictions made: 3\n",
      "\n",
      "💡 The model can now be used for:\n",
      "   • Mission planning and crew selection\n",
      "   • Resource allocation optimization\n",
      "   • Risk assessment and mitigation\n",
      "   • Training program customization\n"
     ]
    }
   ],
   "execution_count": 13,
   "source": [
    "# Real-World Mission Duration Predictions\n",
    "def demonstrate_predictions():\n",
    "    \"\"\"Demonstrate the predictor with realistic astronaut profiles\"\"\"\n",
    "\n",
    "    # Example astronaut profiles for different scenarios\n",
    "    test_profiles = [\n",
    "        {\n",
    "            'Name': 'Future ISS Commander',\n",
    "            'Age at Mission': 42,\n",
    "            'Years Experience': 8,\n",
    "            'Lifetime Mission count': 2,\n",
    "            'Gender': 'male',\n",
    "            'Mission Type': 'ISS Expedition',\n",
    "            'Role': 'commander',\n",
    "            'Nationality': 'U.S.',\n",
    "            'Mission Era': 'ISS Era',\n",
    "            'Experience Level': 'Senior',\n",
    "            'Age Group': 'Middle',\n",
    "            'Career Stage': 'Experienced',\n",
    "            'Military': True,\n",
    "            'Launch Weather': 'Clear',\n",
    "            'Manufacturer': 'Other',\n",
    "            'Mission Complexity': 0.6,\n",
    "            'Success Probability': 0.95\n",
    "        },\n",
    "        {\n",
    "            'Name': 'Young Commercial Astronaut',\n",
    "            'Age at Mission': 34,\n",
    "            'Years Experience': 3,\n",
    "            'Lifetime Mission count': 1,\n",
    "            'Gender': 'female',\n",
    "            'Mission Type': 'Commercial Crew',\n",
    "            'Role': 'pilot',\n",
    "            'Nationality': 'U.S.',\n",
    "            'Mission Era': 'Commercial Era',\n",
    "            'Experience Level': 'Junior',\n",
    "            'Age Group': 'Young',\n",
    "            'Career Stage': 'First Mission',\n",
    "            'Military': False,\n",
    "            'Launch Weather': 'Clear',\n",
    "            'Manufacturer': 'Other',\n",
    "            'Mission Complexity': 0.4,\n",
    "            'Success Probability': 0.92\n",
    "        },\n",
    "        {\n",
    "            'Name': 'Veteran Space Station Specialist',\n",
    "            'Age at Mission': 48,\n",
    "            'Years Experience': 15,\n",
    "            'Lifetime Mission count': 5,\n",
    "            'Gender': 'male',\n",
    "            'Mission Type': 'Soyuz',\n",
    "            'Role': 'mission specialist',\n",
    "            'Nationality': 'Russia',\n",
    "            'Mission Era': 'ISS Era',\n",
    "            'Experience Level': 'Veteran',\n",
    "            'Age Group': 'Mature',\n",
    "            'Career Stage': 'Veteran',\n",
    "            'Military': True,\n",
    "            'Launch Weather': 'Partly Cloudy',\n",
    "            'Manufacturer': 'Energia',\n",
    "            'Mission Complexity': 0.8,\n",
    "            'Success Probability': 0.97\n",
    "        }\n",
    "    ]\n",
    "\n",
    "    print(\"🔮 MISSION DURATION PREDICTIONS\")\n",
    "    print(\"=\" * 60)\n",
    "\n",
    "    for i, profile in enumerate(test_profiles, 1):\n",
    "        print(f\"\\n{'='*20} SCENARIO {i} {'='*20}\")\n",
    "        print(f\"👨‍🚀 Astronaut: {profile['Name']}\")\n",
    "        print(f\"📊 Profile: {profile['Age at Mission']}yr old {profile['Gender']}, {profile['Years Experience']}yr exp, Mission #{profile['Lifetime Mission count']}\")\n",
    "        print(f\"🚀 Mission: {profile['Mission Type']} - {profile['Role']}\")\n",
    "\n",
    "        # Make prediction\n",
    "        result = predictor.predict_mission_duration(profile)\n",
    "\n",
    "        if 'error' in result:\n",
    "            print(f\"❌ Prediction failed: {result['error']}\")\n",
    "            continue\n",
    "\n",
    "        print(f\"\\n📈 PREDICTION RESULTS:\")\n",
    "        print(f\"   Duration: {result['predicted_duration_hours']:.1f} hours ({result['predicted_duration_days']:.1f} days)\")\n",
    "        print(f\"   Confidence: {result['confidence_interval_hours'][0]:.1f} - {result['confidence_interval_hours'][1]:.1f} hours\")\n",
    "        print(f\"   Risk Level: {result['risk_assessment']['level']}\")\n",
    "\n",
    "        if result['risk_assessment']['factors']:\n",
    "            print(f\"   Risk Factors: {', '.join(result['risk_assessment']['factors'])}\")\n",
    "\n",
    "        if result['recommendations']:\n",
    "            print(f\"   Recommendations:\")\n",
    "            for rec in result['recommendations']:\n",
    "                print(f\"     • {rec}\")\n",
    "\n",
    "    return test_profiles\n",
    "\n",
    "# Run prediction demonstrations\n",
    "demo_profiles = demonstrate_predictions()\n",
    "\n",
    "print(f\"\\n\\n📊 PREDICTION SUMMARY:\")\n",
    "print(f\"Total predictions made: {len(predictor.prediction_history)}\")\n",
    "print(f\"\\n💡 The model can now be used for:\")\n",
    "print(f\"   • Mission planning and crew selection\")\n",
    "print(f\"   • Resource allocation optimization\")\n",
    "print(f\"   • Risk assessment and mitigation\")\n",
    "print(f\"   • Training program customization\")"
   ]
  },
  {
   "metadata": {
    "ExecuteTime": {
     "end_time": "2025-09-20T19:05:34.056935Z",
     "start_time": "2025-09-20T19:05:33.910434Z"
    }
   },
   "cell_type": "code",
   "outputs": [
    {
     "data": {
      "text/plain": [
       "<Figure size 1200x800 with 1 Axes>"
      ],
      "image/png": "[encoded data removed]"
     },
     "metadata": {},
     "output_type": "display_data"
    },
    {
     "name": "stdout",
     "output_type": "stream",
     "text": [
      "🔍 TOP 10 MOST IMPORTANT FEATURES:\n",
      "==================================================\n",
      " 1. Mission Complexity        0.5160\n",
      " 2. Mission Type_Other        0.4048\n",
      " 3. Manufacturer_Other        0.0525\n",
      " 4. Success Probability       0.0055\n",
      " 5. Years Experience          0.0039\n",
      " 6. Experience Level_Senior   0.0036\n",
      " 7. Lifetime Mission count    0.0022\n",
      " 8. Nationality_China         0.0018\n",
      " 9. Role_Flight engineer      0.0013\n",
      "10. Nationality_Cuba          0.0008\n",
      "\n",
      "💡 Key Insights:\n",
      "• The top 3 features account for 97.3% of prediction power\n",
      "• The top 10 features account for 99.2% of prediction power\n"
     ]
    }
   ],
   "execution_count": 14,
   "source": [
    "# Feature Importance Analysis\n",
    "import matplotlib.pyplot as plt\n",
    "\n",
    "def analyze_feature_importance(model, feature_names):\n",
    "    \"\"\"Analyze and visualize feature importance\"\"\"\n",
    "\n",
    "    # Get feature importance from the Random Forest model\n",
    "    rf_model = model.named_steps['regressor']\n",
    "    feature_importance = rf_model.feature_importances_\n",
    "\n",
    "    # Get feature names after preprocessing\n",
    "    preprocessor = model.named_steps['preprocessor']\n",
    "\n",
    "    # Get feature names for numeric features\n",
    "    numeric_features = preprocessor.named_transformers_['num'].feature_names_in_\n",
    "\n",
    "    # Get feature names for categorical features (after one-hot encoding)\n",
    "    try:\n",
    "        categorical_features = preprocessor.named_transformers_['cat'].named_steps['onehot'].get_feature_names_out()\n",
    "    except:\n",
    "        categorical_features = [f\"cat_feature_{i}\" for i in range(len(feature_importance) - len(numeric_features) - 1)]\n",
    "\n",
    "    # Boolean features\n",
    "    boolean_features = ['Military']\n",
    "\n",
    "    # Combine all feature names\n",
    "    all_feature_names = list(numeric_features) + list(categorical_features) + boolean_features\n",
    "\n",
    "    # Ensure we have the right number of features\n",
    "    all_feature_names = all_feature_names[:len(feature_importance)]\n",
    "\n",
    "    # Create DataFrame for visualization\n",
    "    importance_df = pd.DataFrame({\n",
    "        'feature': all_feature_names,\n",
    "        'importance': feature_importance\n",
    "    }).sort_values('importance', ascending=False)\n",
    "\n",
    "    # Plot top 15 features\n",
    "    plt.figure(figsize=(12, 8))\n",
    "    top_features = importance_df.head(15)\n",
    "    plt.barh(range(len(top_features)), top_features['importance'])\n",
    "    plt.yticks(range(len(top_features)), top_features['feature'])\n",
    "    plt.xlabel('Feature Importance')\n",
    "    plt.title('Top 15 Most Important Features for Mission Duration Prediction')\n",
    "    plt.gca().invert_yaxis()\n",
    "    plt.tight_layout()\n",
    "    plt.show()\n",
    "\n",
    "    return importance_df\n",
    "\n",
    "# Analyze feature importance\n",
    "feature_importance_df = analyze_feature_importance(best_model, X.columns.tolist())\n",
    "\n",
    "print(\"🔍 TOP 10 MOST IMPORTANT FEATURES:\")\n",
    "print(\"=\" * 50)\n",
    "for i, (_, row) in enumerate(feature_importance_df.head(10).iterrows(), 1):\n",
    "    print(f\"{i:2d}. {row['feature']:25s} {row['importance']:.4f}\")\n",
    "\n",
    "print(f\"\\n💡 Key Insights:\")\n",
    "print(f\"• The top 3 features account for {feature_importance_df.head(3)['importance'].sum():.1%} of prediction power\")\n",
    "print(f\"• The top 10 features account for {feature_importance_df.head(10)['importance'].sum():.1%} of prediction power\")"
   ]
  }
 ],
 "metadata": {
  "kernelspec": {
   "display_name": "Python 3",
   "language": "python",
   "name": "python3"
  },
  "language_info": {
   "codemirror_mode": {
    "name": "ipython",
    "version": 3
   },
   "file_extension": ".py",
   "mimetype": "text/x-python",
   "name": "python",
   "nbconvert_exporter": "python",
   "pygments_lexer": "ipython3",
   "version": "3.12.0"
  }
 },
 "nbformat": 4,
 "nbformat_minor": 4
}
